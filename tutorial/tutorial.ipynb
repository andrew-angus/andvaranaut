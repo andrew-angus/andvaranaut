{
 "cells": [
  {
   "cell_type": "markdown",
   "metadata": {},
   "source": [
    "# Andvaranaut tutorial"
   ]
  },
  {
   "cell_type": "code",
   "execution_count": 1,
   "metadata": {
    "tags": []
   },
   "outputs": [],
   "source": [
    "# Load all modules from andvaranaut package\n",
    "from andvaranaut import *"
   ]
  },
  {
   "cell_type": "code",
   "execution_count": 2,
   "metadata": {
    "tags": []
   },
   "outputs": [],
   "source": [
    "# Magic features for development purposes\n",
    "%load_ext autoreload\n",
    "%autoreload 2"
   ]
  },
  {
   "cell_type": "markdown",
   "metadata": {},
   "source": [
    "## LHC Module"
   ]
  },
  {
   "cell_type": "markdown",
   "metadata": {},
   "source": [
    "User supplies target function, which takes a 1D numpy array of nx inputs and returns a 1D numpy array of ny outputs. They must also supply a list of univariate distributions from scipy stats for each of the nx inputs."
   ]
  },
  {
   "cell_type": "code",
   "execution_count": 3,
   "metadata": {
    "tags": []
   },
   "outputs": [],
   "source": [
    "# Example target function (2 inputs, 2 outputs)\n",
    "# A more complex target function will produce an input file, \n",
    "# execute external code, and perform post-processing on output\n",
    "def test_fun(x):\n",
    "  x1,x2 = x\n",
    "  return np.array([x1**2-x1-x2**2*x1+x2])\n",
    "\n",
    "# Input variable probability distributions\n",
    "import scipy.stats as st\n",
    "sample_space = [st.uniform(loc=0,scale=2),\\\n",
    "                st.uniform(loc=1,scale=0.5)]"
   ]
  },
  {
   "cell_type": "code",
   "execution_count": 4,
   "metadata": {
    "tags": []
   },
   "outputs": [],
   "source": [
    "# Latin hypercube class instance, with correct arguments\n",
    "l = LHC(nx=2,ny=1,priors=sample_space,target=test_fun,\\\n",
    "       parallel=False,nproc=1,verbose=True)"
   ]
  },
  {
   "cell_type": "markdown",
   "metadata": {},
   "source": [
    "Sampling makes use of the latin_random function from py-design"
   ]
  },
  {
   "cell_type": "code",
   "execution_count": 5,
   "metadata": {
    "tags": []
   },
   "outputs": [
    {
     "name": "stdout",
     "output_type": "stream",
     "text": [
      "Evaluating 4 latin hypercube samples...\n",
      "Run is 100.0% complete.\n",
      "Time taken: 0.00 s\n",
      "[[1.43367233 1.10917243]\n",
      " [0.30540191 1.20752138]\n",
      " [0.82398688 1.4513667 ]\n",
      " [1.58631949 1.3134728 ]]\n",
      "[[-0.03287826]\n",
      " [ 0.55008086]\n",
      " [-0.42936557]\n",
      " [-0.49317267]]\n"
     ]
    }
   ],
   "source": [
    "# Sample input distributions by LHC and evaluate target function\n",
    "l.sample(nsamps=4)\n",
    "print(l.x)\n",
    "print(l.y)"
   ]
  },
  {
   "cell_type": "markdown",
   "metadata": {},
   "source": [
    "Parallel execution makes use of the ray package. This also works with SLURM submission if a SLURM script calls a python script with these commands in. (Tutorial will be added at a later date)"
   ]
  },
  {
   "cell_type": "code",
   "execution_count": 6,
   "metadata": {
    "tags": []
   },
   "outputs": [
    {
     "name": "stdout",
     "output_type": "stream",
     "text": [
      "Evaluating 4 latin hypercube samples...\n",
      "Run is 100.0% complete.\n",
      "Time taken: 0.00 s\n"
     ]
    },
    {
     "ename": "NameError",
     "evalue": "name 'ray' is not defined",
     "output_type": "error",
     "traceback": [
      "\u001b[0;31m---------------------------------------------------------------------------\u001b[0m",
      "\u001b[0;31mNameError\u001b[0m                                 Traceback (most recent call last)",
      "\u001b[0;32m/tmp/ipykernel_2621177/2765483364.py\u001b[0m in \u001b[0;36m<cell line: 5>\u001b[0;34m()\u001b[0m\n\u001b[1;32m      3\u001b[0m \u001b[0ml\u001b[0m\u001b[0;34m.\u001b[0m\u001b[0mnproc\u001b[0m \u001b[0;34m=\u001b[0m \u001b[0;36m4\u001b[0m\u001b[0;34m\u001b[0m\u001b[0;34m\u001b[0m\u001b[0m\n\u001b[1;32m      4\u001b[0m \u001b[0ml\u001b[0m\u001b[0;34m.\u001b[0m\u001b[0msample\u001b[0m\u001b[0;34m(\u001b[0m\u001b[0mnsamps\u001b[0m\u001b[0;34m=\u001b[0m\u001b[0;36m4\u001b[0m\u001b[0;34m)\u001b[0m\u001b[0;34m\u001b[0m\u001b[0;34m\u001b[0m\u001b[0m\n\u001b[0;32m----> 5\u001b[0;31m \u001b[0mray\u001b[0m\u001b[0;34m.\u001b[0m\u001b[0mshutdown\u001b[0m\u001b[0;34m(\u001b[0m\u001b[0;34m)\u001b[0m \u001b[0;31m# Shutdown ray parallelism, this command only good for interactive sessions\u001b[0m\u001b[0;34m\u001b[0m\u001b[0;34m\u001b[0m\u001b[0m\n\u001b[0m\u001b[1;32m      6\u001b[0m \u001b[0ml\u001b[0m\u001b[0;34m.\u001b[0m\u001b[0mparallel\u001b[0m \u001b[0;34m=\u001b[0m \u001b[0;32mFalse\u001b[0m\u001b[0;34m\u001b[0m\u001b[0;34m\u001b[0m\u001b[0m\n\u001b[1;32m      7\u001b[0m \u001b[0mprint\u001b[0m\u001b[0;34m(\u001b[0m\u001b[0ml\u001b[0m\u001b[0;34m.\u001b[0m\u001b[0mx\u001b[0m\u001b[0;34m)\u001b[0m\u001b[0;34m\u001b[0m\u001b[0;34m\u001b[0m\u001b[0m\n",
      "\u001b[0;31mNameError\u001b[0m: name 'ray' is not defined"
     ]
    }
   ],
   "source": [
    "# Can also execute target function evaluation in parallel\n",
    "l.parallel = True\n",
    "l.nproc = 4\n",
    "l.sample(nsamps=4)\n",
    "ray.shutdown() # Shutdown ray parallelism, this command only good for interactive sessions\n",
    "l.parallel = False\n",
    "print(l.x)\n",
    "print(l.y)"
   ]
  },
  {
   "cell_type": "code",
   "execution_count": 7,
   "metadata": {
    "tags": []
   },
   "outputs": [
    {
     "data": {
      "image/png": "[encoded data removed]",
      "text/plain": [
       "<Figure size 360x360 with 1 Axes>"
      ]
     },
     "metadata": {
      "needs_background": "light"
     },
     "output_type": "display_data"
    }
   ],
   "source": [
    "# Plot output distributions based on kernel density estimation\n",
    "l.y_dist()"
   ]
  },
  {
   "cell_type": "code",
   "execution_count": 8,
   "metadata": {
    "tags": []
   },
   "outputs": [
    {
     "name": "stdout",
     "output_type": "stream",
     "text": [
      "[[1.43367233 1.10917243]\n",
      " [0.82398688 1.4513667 ]\n",
      " [1.58631949 1.3134728 ]\n",
      " [0.35411284 1.15255669]\n",
      " [0.7372018  1.40131963]\n",
      " [1.05483045 1.07732453]]\n",
      "[[-0.03287826]\n",
      " [-0.42936557]\n",
      " [-0.49317267]\n",
      " [ 0.4534409 ]\n",
      " [-0.24005642]\n",
      " [-0.08910455]] \n",
      "\n",
      "[[0.7372018  1.40131963]\n",
      " [1.43367233 1.10917243]\n",
      " [0.35411284 1.15255669]\n",
      " [0.82398688 1.4513667 ]]\n",
      "[[-0.24005642]\n",
      " [-0.03287826]\n",
      " [ 0.4534409 ]\n",
      " [-0.42936557]] \n",
      "\n",
      "[[0.35411284 1.15255669]\n",
      " [0.82398688 1.4513667 ]]\n",
      "[[ 0.4534409 ]\n",
      " [-0.42936557]] \n",
      "\n"
     ]
    }
   ],
   "source": [
    "# Optionally delete n samples\n",
    "# Default is deletion by closest sample to a coarse LHC of number of samples for deletion\n",
    "l.del_samples(ndels=2,method='coarse_lhc')\n",
    "print(l.x)\n",
    "print(l.y,'\\n')\n",
    "# Can also delete by random indexing\n",
    "l.del_samples(ndels=2,method='random')\n",
    "print(l.x)\n",
    "print(l.y,'\\n')\n",
    "# or by specific data indexes\n",
    "l.del_samples(method='specific',idx=[0,1])\n",
    "print(l.x)\n",
    "print(l.y,'\\n')"
   ]
  },
  {
   "cell_type": "markdown",
   "metadata": {},
   "source": [
    "If datasets exist then it is possible to set the class attributes directly with these. They must be in the form of 2d numpy float arrays. An additional consideration is the provided x data must be compatible with the existing distributions. WARNING: This will likely invalidate relationship of samples to selected input distributions and therefore invalidate output distributions."
   ]
  },
  {
   "cell_type": "code",
   "execution_count": 9,
   "metadata": {
    "tags": []
   },
   "outputs": [
    {
     "name": "stdout",
     "output_type": "stream",
     "text": [
      "[[0.54635556 1.3462231 ]\n",
      " [0.0920597  1.29624289]\n",
      " [0.69820876 1.29763898]\n",
      " [0.13455399 1.10540526]\n",
      " [0.01928159 1.35600354]]\n",
      "[[0.32007942]\n",
      " [0.60959374]\n",
      " [0.52987439]\n",
      " [0.92523016]\n",
      " [0.77461396]]\n"
     ]
    }
   ],
   "source": [
    "x = np.random.rand(5,2)\n",
    "x[:,1] = x[:,1]/2 + 1\n",
    "y = np.random.rand(5,1)\n",
    "l.set_data(x=x,y=y)\n",
    "print(l.x)\n",
    "print(l.y)"
   ]
  },
  {
   "cell_type": "markdown",
   "metadata": {},
   "source": [
    "## GP Module"
   ]
  },
  {
   "cell_type": "markdown",
   "metadata": {},
   "source": [
    "In addition to the arguments provided to the lhc class, there are additional arguments for a list of classes which handle conversion and reversion of the x and y datasets, respectively. These are necessary for optimising surrogate performance, and usually consist of transforming bounded ranges on inputs and outputs to unbounded. Normalisations to get numbers O(1) are also useful and can be implemented either here or within the target function."
   ]
  },
  {
   "cell_type": "markdown",
   "metadata": {},
   "source": [
    "These conversion/reversion arguments are optional, and can be left blank if desired. Standard methods are provided in andvaranaut.transform. A user can define their own conversion classes in this module."
   ]
  },
  {
   "cell_type": "code",
   "execution_count": 10,
   "metadata": {
    "tags": []
   },
   "outputs": [
    {
     "name": "stdout",
     "output_type": "stream",
     "text": [
      "\n",
      "Time taken: 0.00 s\n"
     ]
    }
   ],
   "source": [
    "# Define lists of conversion/reversion class instances for each x and y variable\n",
    "xconrevs = [uniform(sample_space[0]),normal(sample_space[1])]\n",
    "yconrevs = [None]\n",
    "# Instance of gp, only nx, ny, dists, and target are req\n",
    "g = GPMCMC(kernel='RBF',noise=False,xconrevs=xconrevs,yconrevs=yconrevs,\\\n",
    "       nx=2,ny=1,priors=sample_space,target=test_fun,parallel=False,nproc=4,verbose=True)"
   ]
  },
  {
   "cell_type": "markdown",
   "metadata": {},
   "source": [
    "Methods from lhc class are inherited by the GP class with some additions like automatic conversion of new samples"
   ]
  },
  {
   "cell_type": "code",
   "execution_count": 11,
   "metadata": {},
   "outputs": [
    {
     "name": "stdout",
     "output_type": "stream",
     "text": [
      "Evaluating 2 latin hypercube samples...\n",
      "Run is 100.0% complete.\n",
      "Time taken: 0.00 s\n",
      "Run is 100.0% complete.\n",
      "Time taken: 0.00 s\n",
      "[[0.09103147 1.2919926 ]\n",
      " [1.07120816 1.13384663]]\n",
      "[[ 1.05729403]\n",
      " [-0.16702859]]\n",
      "[[ 0.04551574  0.29093326]\n",
      " [ 0.53560408 -0.80473412]]\n",
      "[[ 1.05729403]\n",
      " [-0.16702859]]\n",
      "[[0.]\n",
      " [0.]]\n"
     ]
    }
   ],
   "source": [
    "g.sample(2)\n",
    "print(g.x)\n",
    "print(g.y)\n",
    "print(g.xc)\n",
    "print(g.yc)"
   ]
  },
  {
   "cell_type": "markdown",
   "metadata": {},
   "source": [
    "Take some more samples"
   ]
  },
  {
   "cell_type": "code",
   "execution_count": 12,
   "metadata": {
    "scrolled": true
   },
   "outputs": [
    {
     "name": "stdout",
     "output_type": "stream",
     "text": [
      "Evaluating 98 latin hypercube samples...\n",
      "Run is 100.0% complete.\n",
      "Time taken: 0.00 s\n",
      "Run is 100.0% complete.\n",
      "Time taken: 0.00 s\n",
      "100 100\n"
     ]
    }
   ],
   "source": [
    "g.sample(nsamps=98)"
   ]
  },
  {
   "cell_type": "markdown",
   "metadata": {},
   "source": [
    "Can change conversion/reversion classes without reinitialising class"
   ]
  },
  {
   "cell_type": "code",
   "execution_count": 13,
   "metadata": {},
   "outputs": [
    {
     "name": "stdout",
     "output_type": "stream",
     "text": [
      "[[0.09103147 1.2919926 ]\n",
      " [1.07120816 1.13384663]\n",
      " [0.27136786 1.30615407]\n",
      " [1.64522261 1.37422803]\n",
      " [1.18539245 1.01263608]\n",
      " [1.3137784  1.4470695 ]\n",
      " [0.25668976 1.1652963 ]\n",
      " [0.42619461 1.26705268]\n",
      " [0.64085953 1.11563882]\n",
      " [1.88907471 1.24358191]\n",
      " [1.62396695 1.06549169]\n",
      " [1.65505798 1.28757421]\n",
      " [1.5819494  1.2761796 ]\n",
      " [0.72029188 1.44123214]\n",
      " [1.60008259 1.41369918]\n",
      " [1.54996035 1.22111683]\n",
      " [1.48351893 1.46229804]\n",
      " [1.26351693 1.06877112]\n",
      " [1.42835791 1.17213017]\n",
      " [1.1471739  1.30435865]\n",
      " [0.8997254  1.49782419]\n",
      " [0.03602011 1.40613705]\n",
      " [0.7512162  1.0370685 ]\n",
      " [0.59060106 1.47827617]\n",
      " [1.18348557 1.36954476]\n",
      " [0.19942853 1.34570983]\n",
      " [0.49597044 1.07832305]\n",
      " [0.7604197  1.33330365]\n",
      " [0.02036076 1.05859284]\n",
      " [0.80162918 1.40210344]\n",
      " [0.0648164  1.18346565]\n",
      " [1.8699359  1.42997771]\n",
      " [0.08174555 1.45007665]\n",
      " [1.23440838 1.1089319 ]\n",
      " [0.21712366 1.12817185]\n",
      " [0.5378363  1.3782711 ]\n",
      " [1.90924285 1.04122439]\n",
      " [1.71145224 1.08760316]\n",
      " [0.24158716 1.38893776]\n",
      " [0.83907568 1.08552611]\n",
      " [0.15615518 1.03522682]\n",
      " [0.51898482 1.27532053]\n",
      " [0.3272797  1.36318555]\n",
      " [0.10334059 1.10300067]\n",
      " [0.96444778 1.04780324]\n",
      " [1.34973027 1.29363617]\n",
      " [1.55779938 1.02826184]\n",
      " [1.81138782 1.00670766]\n",
      " [1.28839116 1.25197462]\n",
      " [1.68125452 1.15361808]\n",
      " [1.92604783 1.47054781]\n",
      " [0.14120704 1.22840366]\n",
      " [1.32829241 1.18448776]\n",
      " [0.67408639 1.12745684]\n",
      " [0.48168013 1.43579871]\n",
      " [0.40775342 1.00418811]\n",
      " [1.46280247 1.35818707]\n",
      " [1.22382693 1.42314317]\n",
      " [1.05278181 1.14532613]\n",
      " [0.62026143 1.412137  ]\n",
      " [0.65996869 1.25580471]\n",
      " [1.13199759 1.0962198 ]\n",
      " [0.93690447 1.42714904]\n",
      " [1.52929121 1.31604157]\n",
      " [0.83568549 1.34042873]\n",
      " [0.56264172 1.02121657]\n",
      " [0.37929171 1.15185874]\n",
      " [1.9458759  1.33090926]\n",
      " [1.03979304 1.21778411]\n",
      " [1.78213986 1.35164514]\n",
      " [0.7056593  1.202876  ]\n",
      " [0.05864614 1.29990813]\n",
      " [0.36186142 1.46538644]\n",
      " [1.49672886 1.10187366]\n",
      " [0.43699254 1.31988196]\n",
      " [1.98572317 1.11831221]\n",
      " [1.85468452 1.39695922]\n",
      " [0.88125068 1.01876006]\n",
      " [1.38571863 1.05399049]\n",
      " [1.39993703 1.45704137]\n",
      " [0.30771393 1.076029  ]\n",
      " [1.06976777 1.23489937]\n",
      " [1.11553973 1.32399243]\n",
      " [1.77054832 1.19128519]\n",
      " [0.45889125 1.19455992]\n",
      " [0.95847453 1.23207438]\n",
      " [1.73872614 1.20724726]\n",
      " [1.97188694 1.26303225]\n",
      " [1.08956235 1.48607549]\n",
      " [1.83499578 1.1337001 ]\n",
      " [0.87736394 1.28089   ]\n",
      " [1.43686954 1.16199327]\n",
      " [0.17506726 1.48448245]\n",
      " [0.98511343 1.35528612]\n",
      " [0.60730888 1.2093467 ]\n",
      " [1.01711925 1.13955316]\n",
      " [1.72512215 1.49270016]\n",
      " [0.29310807 1.24706564]\n",
      " [0.77657463 1.17482386]\n",
      " [1.27216939 1.38528427]]\n",
      "[[ 1.05729403e+00]\n",
      " [-1.67028588e-01]\n",
      " [ 6.45462723e-01]\n",
      " [-6.71244452e-01]\n",
      " [ 1.68597344e-02]\n",
      " [-8.91760518e-01]\n",
      " [ 6.25933177e-01]\n",
      " [ 3.38277498e-01]\n",
      " [ 8.78344243e-02]\n",
      " [ 1.66402905e-03]\n",
      " [ 2.35148315e-01]\n",
      " [-3.72100317e-01]\n",
      " [-3.79623057e-01]\n",
      " [-2.56393692e-01]\n",
      " [-8.23956757e-01]\n",
      " [-2.37653082e-01]\n",
      " [-9.92624088e-01]\n",
      " [-4.15504175e-02]\n",
      " [-1.78426838e-01]\n",
      " [-4.78553317e-01]\n",
      " [-6.10908936e-01]\n",
      " [ 1.30019465e+00]\n",
      " [ 4.22367377e-02]\n",
      " [-5.41560275e-02]\n",
      " [-6.33110805e-01]\n",
      " [ 8.24900951e-01]\n",
      " [ 2.51634486e-01]\n",
      " [-2.00674987e-01]\n",
      " [ 1.01582999e+00]\n",
      " [-3.32834443e-01]\n",
      " [ 1.03206915e+00]\n",
      " [-7.67010616e-01]\n",
      " [ 1.20312526e+00]\n",
      " [-1.19701403e-01]\n",
      " [ 6.81842022e-01]\n",
      " [ 1.08012048e-01]\n",
      " [ 7.07287545e-01]\n",
      " [ 2.80775987e-01]\n",
      " [ 7.39657537e-01]\n",
      " [-3.82406110e-02]\n",
      " [ 7.36105415e-01]\n",
      " [ 1.81582012e-01]\n",
      " [ 5.34842213e-01]\n",
      " [ 8.84614110e-01]\n",
      " [-4.53441618e-02]\n",
      " [-4.93088545e-01]\n",
      " [ 2.50105161e-01]\n",
      " [ 6.40676010e-01]\n",
      " [-3.95941166e-01]\n",
      " [ 6.15085022e-02]\n",
      " [-9.10939108e-01]\n",
      " [ 8.94058084e-01]\n",
      " [-2.43053123e-01]\n",
      " [ 5.08919812e-02]\n",
      " [ 1.93142102e-01]\n",
      " [ 3.51521530e-01]\n",
      " [-6.63215256e-01]\n",
      " [-7.81592729e-01]\n",
      " [-1.80115778e-01]\n",
      " [-6.02826682e-02]\n",
      " [-9.40594148e-03]\n",
      " [-1.14678322e-01]\n",
      " [-5.40209730e-01]\n",
      " [-5.23197519e-01]\n",
      " [-2.98403750e-01]\n",
      " [ 1.88370909e-01]\n",
      " [ 4.13193130e-01]\n",
      " [-2.75301454e-01]\n",
      " [-2.82850510e-01]\n",
      " [-5.10342992e-01]\n",
      " [-2.58542261e-02]\n",
      " [ 1.14560339e+00]\n",
      " [ 4.57422907e-01]\n",
      " [ 2.81253092e-02]\n",
      " [ 3.12572277e-01]\n",
      " [ 5.92296063e-01]\n",
      " [-6.37278307e-01]\n",
      " [-5.13321550e-04]\n",
      " [ 4.90987578e-02]\n",
      " [-9.55095665e-01]\n",
      " [ 5.06719929e-01]\n",
      " [-3.21835973e-01]\n",
      " [-5.02610422e-01]\n",
      " [ 4.28861405e-02]\n",
      " [ 2.91424243e-01]\n",
      " [-2.62698036e-01]\n",
      " [-4.24096667e-02]\n",
      " [ 3.38298522e-02]\n",
      " [-8.22552417e-01]\n",
      " [ 3.07437946e-01]\n",
      " [-2.66179212e-01]\n",
      " [-1.50384205e-01]\n",
      " [ 9.54270103e-01]\n",
      " [-4.68835653e-01]\n",
      " [ 8.26608488e-02]\n",
      " [-1.63846673e-01]\n",
      " [-1.10021296e+00]\n",
      " [ 5.84036233e-01]\n",
      " [-7.05195396e-02]\n",
      " [-7.09779128e-01]]\n",
      "[[0.04523895 0.5813691 ]\n",
      " [0.5339901  0.26740695]\n",
      " [0.13516112 0.60948342]\n",
      " [0.82021424 0.74462848]\n",
      " [0.59092647 0.0267715 ]\n",
      " [0.6549443  0.88923834]\n",
      " [0.12784209 0.32984297]\n",
      " [0.21236328 0.53185667]\n",
      " [0.31940288 0.23125956]\n",
      " [0.94180762 0.4852609 ]\n",
      " [0.80961541 0.13170405]\n",
      " [0.82511851 0.5725974 ]\n",
      " [0.78866396 0.54997605]\n",
      " [0.3590107  0.87764961]\n",
      " [0.79770581 0.82298929]\n",
      " [0.77271307 0.44066168]\n",
      " [0.739583   0.91947107]\n",
      " [0.62988214 0.1382146 ]\n",
      " [0.71207774 0.34341004]\n",
      " [0.57186934 0.60591903]\n",
      " [0.44848267 0.99      ]\n",
      " [0.01780831 0.80797645]\n",
      " [0.37443067 0.0752764 ]\n",
      " [0.29434221 0.95119193]\n",
      " [0.58997564 0.73533094]\n",
      " [0.09928959 0.68801221]\n",
      " [0.247156   0.15717775]\n",
      " [0.37901986 0.66338262]\n",
      " [0.01       0.11800799]\n",
      " [0.39956838 0.79996864]\n",
      " [0.03216717 0.365914  ]\n",
      " [0.93226432 0.85530653]\n",
      " [0.04060865 0.89520833]\n",
      " [0.61536757 0.21794453]\n",
      " [0.10811302 0.25614097]\n",
      " [0.26803182 0.75265506]\n",
      " [0.95186418 0.08352696]\n",
      " [0.8532387  0.17560124]\n",
      " [0.1203114  0.77383123]\n",
      " [0.41824054 0.17147775]\n",
      " [0.07771196 0.07162017]\n",
      " [0.25863179 0.54827056]\n",
      " [0.16304076 0.72270619]\n",
      " [0.05137671 0.20616945]\n",
      " [0.48075556 0.09658773]\n",
      " [0.67287119 0.58463203]\n",
      " [0.77662189 0.05779283]\n",
      " [0.90307015 0.01500198]\n",
      " [0.64228531 0.50192267]\n",
      " [0.83818104 0.30665858]\n",
      " [0.96024374 0.93584906]\n",
      " [0.07025828 0.455128  ]\n",
      " [0.66218151 0.36794316]\n",
      " [0.33597098 0.25472149]\n",
      " [0.24003034 0.86686279]\n",
      " [0.20316784 0.01      ]\n",
      " [0.72925303 0.71278287]\n",
      " [0.61009128 0.84173814]\n",
      " [0.52480207 0.29019682]\n",
      " [0.30913193 0.81988795]\n",
      " [0.32893139 0.50952644]\n",
      " [0.56430189 0.1927076 ]\n",
      " [0.46702148 0.84969087]\n",
      " [0.7624067  0.62911275]\n",
      " [0.41655008 0.67752781]\n",
      " [0.28040069 0.04380607]\n",
      " [0.18897581 0.30316581]\n",
      " [0.97013072 0.6586291 ]\n",
      " [0.5183254  0.43404535]\n",
      " [0.88848608 0.69979538]\n",
      " [0.35171437 0.40444875]\n",
      " [0.02909046 0.59708355]\n",
      " [0.18028444 0.92560237]\n",
      " [0.74616994 0.20393202]\n",
      " [0.21774751 0.63673696]\n",
      " [0.99       0.23656696]\n",
      " [0.92465944 0.78975598]\n",
      " [0.43927051 0.03892925]\n",
      " [0.69081627 0.1088711 ]\n",
      " [0.69790608 0.90903517]\n",
      " [0.15328457 0.15262344]\n",
      " [0.53327187 0.46802372]\n",
      " [0.55609541 0.64489734]\n",
      " [0.88270612 0.38143789]\n",
      " [0.22866699 0.38793909]\n",
      " [0.47777708 0.46241536]\n",
      " [0.86683844 0.41312688]\n",
      " [0.98310076 0.52387504]\n",
      " [0.54314216 0.96667567]\n",
      " [0.91484193 0.26711604]\n",
      " [0.43733244 0.55932746]\n",
      " [0.71632195 0.32328558]\n",
      " [0.08714219 0.96351307]\n",
      " [0.49106019 0.70702372]\n",
      " [0.30267333 0.41729482]\n",
      " [0.50701944 0.27873594]\n",
      " [0.86005501 0.97982742]\n",
      " [0.14600157 0.49217703]\n",
      " [0.38707528 0.34875773]\n",
      " [0.63419656 0.76657808]]\n",
      "[[ 1.92308058]\n",
      " [-0.32268447]\n",
      " [ 1.16766175]\n",
      " [-1.24756354]\n",
      " [ 0.01462039]\n",
      " [-1.65205437]\n",
      " [ 1.13183886]\n",
      " [ 0.60419439]\n",
      " [ 0.14480869]\n",
      " [-0.01325297]\n",
      " [ 0.41502536]\n",
      " [-0.69884588]\n",
      " [-0.71264478]\n",
      " [-0.48660615]\n",
      " [-1.52768248]\n",
      " [-0.4522304 ]\n",
      " [-1.83706759]\n",
      " [-0.09252088]\n",
      " [-0.34359218]\n",
      " [-0.89411175]\n",
      " [-1.13689059]\n",
      " [ 2.36863121]\n",
      " [ 0.06116922]\n",
      " [-0.11564325]\n",
      " [-1.1776153 ]\n",
      " [ 1.49680384]\n",
      " [ 0.44526581]\n",
      " [-0.38440178]\n",
      " [ 1.84702343]\n",
      " [-0.6268208 ]\n",
      " [ 1.87681078]\n",
      " [-1.42322663]\n",
      " [ 2.19057762]\n",
      " [-0.2358726 ]\n",
      " [ 1.234392  ]\n",
      " [ 0.18182034]\n",
      " [ 1.28106652]\n",
      " [ 0.49871983]\n",
      " [ 1.34044253]\n",
      " [-0.08644973]\n",
      " [ 1.33392691]\n",
      " [ 0.31676913]\n",
      " [ 0.96475145]\n",
      " [ 1.6063352 ]\n",
      " [-0.09947971]\n",
      " [-0.9207736 ]\n",
      " [ 0.44246058]\n",
      " [ 1.15888152]\n",
      " [-0.74257695]\n",
      " [ 0.09651926]\n",
      " [-1.6872335 ]\n",
      " [ 1.62365821]\n",
      " [-0.46213565]\n",
      " [ 0.07704546]\n",
      " [ 0.33797371]\n",
      " [ 0.62848781]\n",
      " [-1.23283565]\n",
      " [-1.44997448]\n",
      " [-0.34669019]\n",
      " [-0.12688129]\n",
      " [-0.03355853]\n",
      " [-0.2266588 ]\n",
      " [-1.00720761]\n",
      " [-0.97600225]\n",
      " [-0.56366486]\n",
      " [ 0.32922195]\n",
      " [ 0.74161152]\n",
      " [-0.52128851]\n",
      " [-0.53513568]\n",
      " [-0.95242329]\n",
      " [-0.06372948]\n",
      " [ 2.08506571]\n",
      " [ 0.82274184]\n",
      " [ 0.03528474]\n",
      " [ 0.55704351]\n",
      " [ 1.07013858]\n",
      " [-1.18525971]\n",
      " [-0.01724687]\n",
      " [ 0.07375617]\n",
      " [-1.76822951]\n",
      " [ 0.91316697]\n",
      " [-0.6066464 ]\n",
      " [-0.9382395 ]\n",
      " [ 0.06236042]\n",
      " [ 0.51825184]\n",
      " [-0.49817016]\n",
      " [-0.09409699]\n",
      " [ 0.04574854]\n",
      " [-1.52510651]\n",
      " [ 0.54762565]\n",
      " [-0.50455565]\n",
      " [-0.29215381]\n",
      " [ 1.73410462]\n",
      " [-0.87628672]\n",
      " [ 0.13531884]\n",
      " [-0.31684791]\n",
      " [-2.034417  ]\n",
      " [ 1.05498764]\n",
      " [-0.1456587 ]\n",
      " [-1.31824738]]\n",
      "[[0.]\n",
      " [0.]\n",
      " [0.]\n",
      " [0.]\n",
      " [0.]\n",
      " [0.]\n",
      " [0.]\n",
      " [0.]\n",
      " [0.]\n",
      " [0.]\n",
      " [0.]\n",
      " [0.]\n",
      " [0.]\n",
      " [0.]\n",
      " [0.]\n",
      " [0.]\n",
      " [0.]\n",
      " [0.]\n",
      " [0.]\n",
      " [0.]\n",
      " [0.]\n",
      " [0.]\n",
      " [0.]\n",
      " [0.]\n",
      " [0.]\n",
      " [0.]\n",
      " [0.]\n",
      " [0.]\n",
      " [0.]\n",
      " [0.]\n",
      " [0.]\n",
      " [0.]\n",
      " [0.]\n",
      " [0.]\n",
      " [0.]\n",
      " [0.]\n",
      " [0.]\n",
      " [0.]\n",
      " [0.]\n",
      " [0.]\n",
      " [0.]\n",
      " [0.]\n",
      " [0.]\n",
      " [0.]\n",
      " [0.]\n",
      " [0.]\n",
      " [0.]\n",
      " [0.]\n",
      " [0.]\n",
      " [0.]\n",
      " [0.]\n",
      " [0.]\n",
      " [0.]\n",
      " [0.]\n",
      " [0.]\n",
      " [0.]\n",
      " [0.]\n",
      " [0.]\n",
      " [0.]\n",
      " [0.]\n",
      " [0.]\n",
      " [0.]\n",
      " [0.]\n",
      " [0.]\n",
      " [0.]\n",
      " [0.]\n",
      " [0.]\n",
      " [0.]\n",
      " [0.]\n",
      " [0.]\n",
      " [0.]\n",
      " [0.]\n",
      " [0.]\n",
      " [0.]\n",
      " [0.]\n",
      " [0.]\n",
      " [0.]\n",
      " [0.]\n",
      " [0.]\n",
      " [0.]\n",
      " [0.]\n",
      " [0.]\n",
      " [0.]\n",
      " [0.]\n",
      " [0.]\n",
      " [0.]\n",
      " [0.]\n",
      " [0.]\n",
      " [0.]\n",
      " [0.]\n",
      " [0.]\n",
      " [0.]\n",
      " [0.]\n",
      " [0.]\n",
      " [0.]\n",
      " [0.]\n",
      " [0.]\n",
      " [0.]\n",
      " [0.]\n",
      " [0.]]\n"
     ]
    }
   ],
   "source": [
    "xconrevs = [maxmin(g.x[:,0]),maxmin(g.x[:,1])]\n",
    "yconrevs = [meanstd(g.y[:,0])]\n",
    "g.change_conrevs(xconrevs,yconrevs)\n",
    "print(g.x[:2])\n",
    "print(g.y[:2])\n",
    "print(g.xc[:2])\n",
    "print(g.yc[:2])"
   ]
  },
  {
   "cell_type": "code",
   "execution_count": 14,
   "metadata": {
    "tags": []
   },
   "outputs": [
    {
     "data": {
      "text/html": [
       "\n",
       "<style>\n",
       "    /* Turns off some styling */\n",
       "    progress {\n",
       "        /* gets rid of default border in Firefox and Opera. */\n",
       "        border: none;\n",
       "        /* Needs to be in here for Safari polyfill so background images work as expected. */\n",
       "        background-size: auto;\n",
       "    }\n",
       "    progress:not([value]), progress:not([value])::-webkit-progress-bar {\n",
       "        background: repeating-linear-gradient(45deg, #7e7e7e, #7e7e7e 10px, #5c5c5c 10px, #5c5c5c 20px);\n",
       "    }\n",
       "    .progress-bar-interrupted, .progress-bar-interrupted::-webkit-progress-bar {\n",
       "        background: #F44336;\n",
       "    }\n",
       "</style>\n"
      ],
      "text/plain": [
       "<IPython.core.display.HTML object>"
      ]
     },
     "metadata": {},
     "output_type": "display_data"
    },
    {
     "data": {
      "text/html": [
       "\n",
       "    <div>\n",
       "      <progress value='16' class='' max='16' style='width:300px; height:20px; vertical-align: middle;'></progress>\n",
       "      100.00% [16/16 00:00&lt;00:00 logp = 469.59, ||grad|| = 10.046]\n",
       "    </div>\n",
       "    "
      ],
      "text/plain": [
       "<IPython.core.display.HTML object>"
      ]
     },
     "metadata": {},
     "output_type": "display_data"
    },
    {
     "name": "stdout",
     "output_type": "stream",
     "text": [
      "\n"
     ]
    }
   ],
   "source": [
    "g.fit(restarts=1)"
   ]
  },
  {
   "cell_type": "markdown",
   "metadata": {},
   "source": [
    "Your fitted model will be a PyMC object and as such will retain all PyMC functionality. It can be accessed as the 'm' attribute of the gp class.\n",
    "\n",
    "The fitted hyperparameters are stored as g.hypers"
   ]
  },
  {
   "cell_type": "code",
   "execution_count": 15,
   "metadata": {},
   "outputs": [
    {
     "name": "stdout",
     "output_type": "stream",
     "text": [
      "{'l_log__': array([0.11699169, 0.9638779 ]), 'kv_log__': array([4.14233284]), 'l': array([1.12411009, 2.62184403]), 'kv': array([62.94950142])}\n"
     ]
    }
   ],
   "source": [
    "print(g.hypers)"
   ]
  },
  {
   "cell_type": "markdown",
   "metadata": {},
   "source": [
    "Make a train-test set and produce plots to assess GP performance"
   ]
  },
  {
   "cell_type": "code",
   "execution_count": 16,
   "metadata": {},
   "outputs": [],
   "source": [
    "g.train_test(training_frac=0.9)"
   ]
  },
  {
   "cell_type": "code",
   "execution_count": 17,
   "metadata": {
    "tags": []
   },
   "outputs": [
    {
     "name": "stdout",
     "output_type": "stream",
     "text": [
      "Predicting...\n",
      "Time taken: 0.61 s\n",
      "RMSE for y is: 1.15972e-04\n",
      "Mean absoulte error for y is: 9.45502e-05\n",
      "Mean percentage error for y is: 0.03005%\n",
      "R^2 for y is: 1.00000\n"
     ]
    },
    {
     "data": {
      "image/png": "[encoded data removed]",
      "text/plain": [
       "<Figure size 432x288 with 1 Axes>"
      ]
     },
     "metadata": {
      "needs_background": "light"
     },
     "output_type": "display_data"
    },
    {
     "data": {
      "image/png": "[encoded data removed]",
      "text/plain": [
       "<Figure size 432x288 with 1 Axes>"
      ]
     },
     "metadata": {
      "needs_background": "light"
     },
     "output_type": "display_data"
    },
    {
     "data": {
      "image/png": "[encoded data removed]",
      "text/plain": [
       "<Figure size 432x288 with 1 Axes>"
      ]
     },
     "metadata": {
      "needs_background": "light"
     },
     "output_type": "display_data"
    }
   ],
   "source": [
    "g.test_plots(revert=True,yplots=True,xplots=True)"
   ]
  },
  {
   "cell_type": "markdown",
   "metadata": {},
   "source": [
    "Can change model details (kernel choice and whether data contains noise) without reinitialsing class. This will scrub any fitted model and require a new call to gp.fit()."
   ]
  },
  {
   "cell_type": "code",
   "execution_count": 18,
   "metadata": {
    "tags": []
   },
   "outputs": [
    {
     "data": {
      "text/html": [
       "\n",
       "<style>\n",
       "    /* Turns off some styling */\n",
       "    progress {\n",
       "        /* gets rid of default border in Firefox and Opera. */\n",
       "        border: none;\n",
       "        /* Needs to be in here for Safari polyfill so background images work as expected. */\n",
       "        background-size: auto;\n",
       "    }\n",
       "    progress:not([value]), progress:not([value])::-webkit-progress-bar {\n",
       "        background: repeating-linear-gradient(45deg, #7e7e7e, #7e7e7e 10px, #5c5c5c 10px, #5c5c5c 20px);\n",
       "    }\n",
       "    .progress-bar-interrupted, .progress-bar-interrupted::-webkit-progress-bar {\n",
       "        background: #F44336;\n",
       "    }\n",
       "</style>\n"
      ],
      "text/plain": [
       "<IPython.core.display.HTML object>"
      ]
     },
     "metadata": {},
     "output_type": "display_data"
    },
    {
     "data": {
      "text/html": [
       "\n",
       "    <div>\n",
       "      <progress value='17' class='' max='17' style='width:300px; height:20px; vertical-align: middle;'></progress>\n",
       "      100.00% [17/17 00:00&lt;00:00 logp = 335.19, ||grad|| = 15.362]\n",
       "    </div>\n",
       "    "
      ],
      "text/plain": [
       "<IPython.core.display.HTML object>"
      ]
     },
     "metadata": {},
     "output_type": "display_data"
    },
    {
     "name": "stdout",
     "output_type": "stream",
     "text": [
      "\n",
      "Predicting...\n",
      "Time taken: 0.37 s\n",
      "RMSE for y is: 5.68104e-05\n",
      "Mean absoulte error for y is: 3.44892e-05\n",
      "Mean percentage error for y is: 0.01210%\n",
      "R^2 for y is: 1.00000\n"
     ]
    },
    {
     "data": {
      "image/png": "[encoded data removed]",
      "text/plain": [
       "<Figure size 432x288 with 1 Axes>"
      ]
     },
     "metadata": {
      "needs_background": "light"
     },
     "output_type": "display_data"
    },
    {
     "data": {
      "image/png": "[encoded data removed]",
      "text/plain": [
       "<Figure size 432x288 with 1 Axes>"
      ]
     },
     "metadata": {
      "needs_background": "light"
     },
     "output_type": "display_data"
    },
    {
     "data": {
      "image/png": "[encoded data removed]",
      "text/plain": [
       "<Figure size 432x288 with 1 Axes>"
      ]
     },
     "metadata": {
      "needs_background": "light"
     },
     "output_type": "display_data"
    }
   ],
   "source": [
    "g.change_model(kernel='Matern52',noise=True)\n",
    "g.test_plots(method='map')"
   ]
  },
  {
   "cell_type": "markdown",
   "metadata": {},
   "source": [
    "Propagate uncertainty using surrogate and get target distributions"
   ]
  },
  {
   "cell_type": "code",
   "execution_count": 19,
   "metadata": {
    "tags": []
   },
   "outputs": [
    {
     "data": {
      "text/html": [
       "\n",
       "<style>\n",
       "    /* Turns off some styling */\n",
       "    progress {\n",
       "        /* gets rid of default border in Firefox and Opera. */\n",
       "        border: none;\n",
       "        /* Needs to be in here for Safari polyfill so background images work as expected. */\n",
       "        background-size: auto;\n",
       "    }\n",
       "    progress:not([value]), progress:not([value])::-webkit-progress-bar {\n",
       "        background: repeating-linear-gradient(45deg, #7e7e7e, #7e7e7e 10px, #5c5c5c 10px, #5c5c5c 20px);\n",
       "    }\n",
       "    .progress-bar-interrupted, .progress-bar-interrupted::-webkit-progress-bar {\n",
       "        background: #F44336;\n",
       "    }\n",
       "</style>\n"
      ],
      "text/plain": [
       "<IPython.core.display.HTML object>"
      ]
     },
     "metadata": {},
     "output_type": "display_data"
    },
    {
     "data": {
      "text/html": [
       "\n",
       "    <div>\n",
       "      <progress value='42' class='' max='42' style='width:300px; height:20px; vertical-align: middle;'></progress>\n",
       "      100.00% [42/42 00:00&lt;00:00 logp = 393.4, ||grad|| = 0.0044592]\n",
       "    </div>\n",
       "    "
      ],
      "text/plain": [
       "<IPython.core.display.HTML object>"
      ]
     },
     "metadata": {},
     "output_type": "display_data"
    },
    {
     "name": "stdout",
     "output_type": "stream",
     "text": [
      "\n",
      "Predicting...\n",
      "Time taken: 0.46 s\n"
     ]
    },
    {
     "data": {
      "image/png": "[encoded data removed]",
      "text/plain": [
       "<Figure size 360x360 with 1 Axes>"
      ]
     },
     "metadata": {
      "needs_background": "light"
     },
     "output_type": "display_data"
    }
   ],
   "source": [
    "g.fit()\n",
    "x,y = g.y_dist(mode='hist_kde',nsamps=1000,return_data=True,surrogate=True)"
   ]
  },
  {
   "cell_type": "markdown",
   "metadata": {},
   "source": [
    "Plot also the distrutions based on underyling 100 LHC samples"
   ]
  },
  {
   "cell_type": "code",
   "execution_count": 20,
   "metadata": {
    "tags": []
   },
   "outputs": [
    {
     "data": {
      "image/png": "[encoded data removed]",
      "text/plain": [
       "<Figure size 360x360 with 1 Axes>"
      ]
     },
     "metadata": {
      "needs_background": "light"
     },
     "output_type": "display_data"
    }
   ],
   "source": [
    "g.y_dist(surrogate=False)"
   ]
  },
  {
   "cell_type": "markdown",
   "metadata": {},
   "source": [
    "Get 1000 actual function evaluations for comparison with GP surrogate plots. GP based on 100 evaluations gives good qualitative agreement."
   ]
  },
  {
   "cell_type": "code",
   "execution_count": 21,
   "metadata": {},
   "outputs": [],
   "source": [
    "l = LHC(nx=2,ny=1,priors=sample_space,target=test_fun,verbose=True)"
   ]
  },
  {
   "cell_type": "code",
   "execution_count": 22,
   "metadata": {},
   "outputs": [
    {
     "name": "stdout",
     "output_type": "stream",
     "text": [
      "Evaluating 1000 latin hypercube samples...\n",
      "Run is 100.0% complete.\n",
      "Time taken: 0.02 s\n"
     ]
    }
   ],
   "source": [
    "l.sample(1000)"
   ]
  },
  {
   "cell_type": "code",
   "execution_count": 23,
   "metadata": {
    "tags": []
   },
   "outputs": [
    {
     "data": {
      "image/png": "[encoded data removed]",
      "text/plain": [
       "<Figure size 360x360 with 1 Axes>"
      ]
     },
     "metadata": {
      "needs_background": "light"
     },
     "output_type": "display_data"
    }
   ],
   "source": [
    "l.y_dist()"
   ]
  },
  {
   "cell_type": "markdown",
   "metadata": {},
   "source": [
    "The lengthscales of the fitted GP give an insight into sensitivities of the outputs to the inputs."
   ]
  },
  {
   "cell_type": "code",
   "execution_count": 24,
   "metadata": {
    "tags": []
   },
   "outputs": [
    {
     "data": {
      "image/png": "[encoded data removed]",
      "text/plain": [
       "<Figure size 432x288 with 1 Axes>"
      ]
     },
     "metadata": {
      "needs_background": "light"
     },
     "output_type": "display_data"
    }
   ],
   "source": [
    "g.relative_importances()"
   ]
  },
  {
   "cell_type": "markdown",
   "metadata": {},
   "source": [
    "## Bayesian Optimisation"
   ]
  },
  {
   "cell_type": "code",
   "execution_count": null,
   "metadata": {},
   "outputs": [
    {
     "name": "stdout",
     "output_type": "stream",
     "text": [
      "Running Bayesian minimisation...\n",
      "Current optima is 1.3001946504106536 at x point [0.03602011 1.40613705]\n",
      "Iteration 0\n"
     ]
    }
   ],
   "source": [
    "g.BO(opt_type='max',max_iter=2)\n",
    "print(g.xopt,g.yopt)"
   ]
  },
  {
   "cell_type": "code",
   "execution_count": null,
   "metadata": {},
   "outputs": [],
   "source": [
    "g.BO(opt_type='min',max_iter=2)\n",
    "print(g.xopt,g.yopt)"
   ]
  },
  {
   "cell_type": "markdown",
   "metadata": {},
   "source": [
    "## Utils"
   ]
  },
  {
   "cell_type": "markdown",
   "metadata": {},
   "source": [
    "### Save and load objects"
   ]
  },
  {
   "cell_type": "code",
   "execution_count": null,
   "metadata": {
    "tags": []
   },
   "outputs": [],
   "source": [
    "# Save lhc class including datasets\n",
    "l = LHC(nx=2,ny=1,priors=sample_space,target=test_fun)\n",
    "l.sample(2)\n",
    "print(l.x)\n",
    "print(l.y)\n",
    "save_object(obj=l,fname='lhc_tut.pickle')"
   ]
  },
  {
   "cell_type": "code",
   "execution_count": null,
   "metadata": {
    "scrolled": true,
    "tags": []
   },
   "outputs": [],
   "source": [
    "# Load lhc class\n",
    "l = load_object(fname='lhc_tut.pickle')\n",
    "print(l.x)\n",
    "print(l.y)"
   ]
  },
  {
   "cell_type": "code",
   "execution_count": null,
   "metadata": {},
   "outputs": [],
   "source": []
  }
 ],
 "metadata": {
  "kernelspec": {
   "display_name": "Python 3 (ipykernel)",
   "language": "python",
   "name": "python3"
  },
  "language_info": {
   "codemirror_mode": {
    "name": "ipython",
    "version": 3
   },
   "file_extension": ".py",
   "mimetype": "text/x-python",
   "name": "python",
   "nbconvert_exporter": "python",
   "pygments_lexer": "ipython3",
   "version": "3.10.12"
  }
 },
 "nbformat": 4,
 "nbformat_minor": 4
}
