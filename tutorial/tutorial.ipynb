{
 "cells": [
  {
   "cell_type": "markdown",
   "metadata": {},
   "source": [
    "# Andvaranaut tutorial"
   ]
  },
  {
   "cell_type": "code",
   "execution_count": 1,
   "metadata": {
    "tags": []
   },
   "outputs": [],
   "source": [
    "# Load all modules from andvaranaut package\n",
    "from andvaranaut import *"
   ]
  },
  {
   "cell_type": "code",
   "execution_count": 2,
   "metadata": {
    "tags": []
   },
   "outputs": [],
   "source": [
    "# Magic features for development purposes\n",
    "%load_ext autoreload\n",
    "%autoreload 2"
   ]
  },
  {
   "cell_type": "markdown",
   "metadata": {},
   "source": [
    "## LHC Module"
   ]
  },
  {
   "cell_type": "markdown",
   "metadata": {},
   "source": [
    "User supplies target function, which takes a 1D numpy array of nx inputs and returns a 1D numpy array of ny outputs. They must also supply a list of univariate distributions from scipy stats for each of the nx inputs."
   ]
  },
  {
   "cell_type": "code",
   "execution_count": 3,
   "metadata": {
    "tags": []
   },
   "outputs": [],
   "source": [
    "# Example target function (2 inputs, 2 outputs)\n",
    "# A more complex target function will produce an input file, \n",
    "# execute external code, and perform post-processing on output\n",
    "def test_fun(x):\n",
    "  x1,x2 = x\n",
    "  return np.array([x1**2-x1-x2**2*x1+x2])\n",
    "\n",
    "# Input variable probability distributions\n",
    "import scipy.stats as st\n",
    "sample_space = [st.uniform(loc=0,scale=2),\\\n",
    "                st.uniform(loc=1,scale=0.5)]"
   ]
  },
  {
   "cell_type": "code",
   "execution_count": 4,
   "metadata": {
    "tags": []
   },
   "outputs": [],
   "source": [
    "# Latin hypercube class instance, with correct arguments\n",
    "l = LHC(nx=2,ny=1,priors=sample_space,target=test_fun,\\\n",
    "       parallel=False,nproc=1,verbose=True)"
   ]
  },
  {
   "cell_type": "markdown",
   "metadata": {},
   "source": [
    "Sampling makes use of the latin_random function from py-design"
   ]
  },
  {
   "cell_type": "code",
   "execution_count": 5,
   "metadata": {
    "tags": []
   },
   "outputs": [
    {
     "name": "stdout",
     "output_type": "stream",
     "text": [
      "Evaluating 4 latin hypercube samples...\n",
      "Run is 100.0% complete.\n",
      "Time taken: 0.00 s\n",
      "[[0.74951094 1.02107122]\n",
      " [0.03035373 1.39392901]\n",
      " [1.65511819 1.26495478]\n",
      " [1.07146334 1.2200149 ]]\n",
      "[[ 0.05189699]\n",
      " [ 1.30551818]\n",
      " [-0.29911934]\n",
      " [-0.29821973]]\n"
     ]
    }
   ],
   "source": [
    "# Sample input distributions by LHC and evaluate target function\n",
    "l.sample(nsamps=4)\n",
    "print(l.x)\n",
    "print(l.y)"
   ]
  },
  {
   "cell_type": "markdown",
   "metadata": {},
   "source": [
    "Parallel execution makes use of the ray package. This also works with SLURM submission if a SLURM script calls a python script with these commands in. (Tutorial will be added at a later date)"
   ]
  },
  {
   "cell_type": "code",
   "execution_count": 6,
   "metadata": {
    "tags": []
   },
   "outputs": [
    {
     "name": "stdout",
     "output_type": "stream",
     "text": [
      "Evaluating 4 latin hypercube samples...\n"
     ]
    },
    {
     "name": "stderr",
     "output_type": "stream",
     "text": [
      "2024-02-23 12:18:22,070\tINFO worker.py:1724 -- Started a local Ray instance.\n"
     ]
    },
    {
     "name": "stdout",
     "output_type": "stream",
     "text": [
      "Run is 100.0% complete.\n",
      "Time taken: 3.37 s\n",
      "[[0.74951094 1.02107122]\n",
      " [0.03035373 1.39392901]\n",
      " [1.65511819 1.26495478]\n",
      " [1.07146334 1.2200149 ]\n",
      " [0.41701078 1.46789161]\n",
      " [1.20010767 1.35433589]\n",
      " [0.70962562 1.19826551]\n",
      " [1.67783492 1.12334937]]\n",
      "[[ 0.05189699]\n",
      " [ 1.30551818]\n",
      " [-0.29911934]\n",
      " [-0.29821973]\n",
      " [ 0.32624329]\n",
      " [-0.60678169]\n",
      " [-0.0267006 ]\n",
      " [ 0.14336142]]\n"
     ]
    }
   ],
   "source": [
    "# Can also execute target function evaluation in parallel\n",
    "l.parallel = True\n",
    "l.nproc = 4\n",
    "l.sample(nsamps=4)\n",
    "ray.shutdown() # Shutdown ray parallelism, this command only good for interactive sessions\n",
    "l.parallel = False\n",
    "print(l.x)\n",
    "print(l.y)"
   ]
  },
  {
   "cell_type": "code",
   "execution_count": 7,
   "metadata": {
    "tags": []
   },
   "outputs": [
    {
     "data": {
      "image/png": "[encoded data removed]",
      "text/plain": [
       "<Figure size 360x360 with 1 Axes>"
      ]
     },
     "metadata": {
      "needs_background": "light"
     },
     "output_type": "display_data"
    }
   ],
   "source": [
    "# Plot output distributions based on kernel density estimation\n",
    "l.y_dist()"
   ]
  },
  {
   "cell_type": "code",
   "execution_count": 8,
   "metadata": {
    "tags": []
   },
   "outputs": [
    {
     "name": "stdout",
     "output_type": "stream",
     "text": [
      "[[0.74951094 1.02107122]\n",
      " [0.03035373 1.39392901]\n",
      " [1.65511819 1.26495478]\n",
      " [1.07146334 1.2200149 ]\n",
      " [0.70962562 1.19826551]\n",
      " [1.67783492 1.12334937]]\n",
      "[[ 0.05189699]\n",
      " [ 1.30551818]\n",
      " [-0.29911934]\n",
      " [-0.29821973]\n",
      " [-0.0267006 ]\n",
      " [ 0.14336142]] \n",
      "\n",
      "[[0.03035373 1.39392901]\n",
      " [1.65511819 1.26495478]\n",
      " [1.67783492 1.12334937]\n",
      " [1.07146334 1.2200149 ]]\n",
      "[[ 1.30551818]\n",
      " [-0.29911934]\n",
      " [ 0.14336142]\n",
      " [-0.29821973]] \n",
      "\n",
      "[[1.67783492 1.12334937]\n",
      " [1.07146334 1.2200149 ]]\n",
      "[[ 0.14336142]\n",
      " [-0.29821973]] \n",
      "\n"
     ]
    }
   ],
   "source": [
    "# Optionally delete n samples\n",
    "# Default is deletion by closest sample to a coarse LHC of number of samples for deletion\n",
    "l.del_samples(ndels=2,method='coarse_lhc')\n",
    "print(l.x)\n",
    "print(l.y,'\\n')\n",
    "# Can also delete by random indexing\n",
    "l.del_samples(ndels=2,method='random')\n",
    "print(l.x)\n",
    "print(l.y,'\\n')\n",
    "# or by specific data indexes\n",
    "l.del_samples(method='specific',idx=[0,1])\n",
    "print(l.x)\n",
    "print(l.y,'\\n')"
   ]
  },
  {
   "cell_type": "markdown",
   "metadata": {},
   "source": [
    "If datasets exist then it is possible to set the class attributes directly with these. They must be in the form of 2d numpy float arrays. An additional consideration is the provided x data must be compatible with the existing distributions. WARNING: This will likely invalidate relationship of samples to selected input distributions and therefore invalidate output distributions."
   ]
  },
  {
   "cell_type": "code",
   "execution_count": 9,
   "metadata": {
    "tags": []
   },
   "outputs": [
    {
     "name": "stdout",
     "output_type": "stream",
     "text": [
      "[[0.71443753 1.21199874]\n",
      " [0.01940172 1.06322048]\n",
      " [0.44794714 1.07826833]\n",
      " [0.14248921 1.09023519]\n",
      " [0.50618581 1.45270137]]\n",
      "[[0.34243555]\n",
      " [0.35032225]\n",
      " [0.19799237]\n",
      " [0.65537781]\n",
      " [0.22686555]]\n"
     ]
    }
   ],
   "source": [
    "x = np.random.rand(5,2)\n",
    "x[:,1] = x[:,1]/2 + 1\n",
    "y = np.random.rand(5,1)\n",
    "l.set_data(x=x,y=y)\n",
    "print(l.x)\n",
    "print(l.y)"
   ]
  },
  {
   "cell_type": "markdown",
   "metadata": {},
   "source": [
    "## GP Module"
   ]
  },
  {
   "cell_type": "markdown",
   "metadata": {},
   "source": [
    "In addition to the arguments provided to the lhc class, there are additional arguments for a list of classes which handle conversion and reversion of the x and y datasets, respectively. These are necessary for optimising surrogate performance, and usually consist of transforming bounded ranges on inputs and outputs to unbounded. Normalisations to get numbers O(1) are also useful and can be implemented either here or within the target function."
   ]
  },
  {
   "cell_type": "markdown",
   "metadata": {},
   "source": [
    "These conversion/reversion arguments are optional, and can be left blank if desired. Standard methods are provided in andvaranaut.transform. A user can define their own conversion classes in this module."
   ]
  },
  {
   "cell_type": "code",
   "execution_count": 10,
   "metadata": {
    "tags": []
   },
   "outputs": [
    {
     "name": "stdout",
     "output_type": "stream",
     "text": [
      "\n",
      "Time taken: 0.00 s\n"
     ]
    }
   ],
   "source": [
    "# Define lists of conversion/reversion class instances for each x and y variable\n",
    "xconrevs = [uniform(sample_space[0]),normal(sample_space[1])]\n",
    "yconrevs = [None]\n",
    "# Instance of gp, only nx, ny, dists, and target are req\n",
    "g = GPMCMC(kernel='RBF',noise=False,xconrevs=xconrevs,yconrevs=yconrevs,\\\n",
    "       nx=2,ny=1,priors=sample_space,target=test_fun,parallel=False,nproc=4,verbose=True)"
   ]
  },
  {
   "cell_type": "markdown",
   "metadata": {},
   "source": [
    "Methods from lhc class are inherited by the GP class with some additions like automatic conversion of new samples"
   ]
  },
  {
   "cell_type": "code",
   "execution_count": 11,
   "metadata": {},
   "outputs": [
    {
     "name": "stdout",
     "output_type": "stream",
     "text": [
      "Evaluating 2 latin hypercube samples...\n",
      "Run is 100.0% complete.\n",
      "Time taken: 0.00 s\n",
      "Run is 100.0% complete.\n",
      "Time taken: 0.00 s\n",
      "[[1.66839574 1.08829025]\n",
      " [0.72727751 1.39424885]]\n",
      "[[ 0.22743154]\n",
      " [-0.21787256]]\n",
      "[[ 0.83419787 -1.12035801]\n",
      " [ 0.36363876  0.99938538]]\n",
      "[[ 0.22743154]\n",
      " [-0.21787256]]\n",
      "[[0.]\n",
      " [0.]]\n"
     ]
    }
   ],
   "source": [
    "g.sample(2)\n",
    "print(g.x)\n",
    "print(g.y)\n",
    "print(g.xc)\n",
    "print(g.yc)\n",
    "print(g.ym)"
   ]
  },
  {
   "cell_type": "markdown",
   "metadata": {},
   "source": [
    "Can change conversion/reversion classes without reinitialising class"
   ]
  },
  {
   "cell_type": "code",
   "execution_count": 12,
   "metadata": {},
   "outputs": [
    {
     "name": "stdout",
     "output_type": "stream",
     "text": [
      "[[1.66839574 1.08829025]\n",
      " [0.72727751 1.39424885]]\n",
      "[[ 0.22743154]\n",
      " [-0.21787256]]\n",
      "[[0.99 0.01]\n",
      " [0.01 0.99]]\n",
      "[[ 1.]\n",
      " [-1.]]\n",
      "[[0.]\n",
      " [0.]]\n"
     ]
    }
   ],
   "source": [
    "xconrevs = [maxmin(g.x[:,0]),maxmin(g.x[:,1])]\n",
    "yconrevs = [meanstd(g.y[:,0])]\n",
    "g.change_conrevs(xconrevs,yconrevs)\n",
    "print(g.x)\n",
    "print(g.y)\n",
    "print(g.xc)\n",
    "print(g.yc)\n",
    "print(g.ym)"
   ]
  },
  {
   "cell_type": "markdown",
   "metadata": {},
   "source": [
    "Take some more samples and fit GP surrogate to converted data"
   ]
  },
  {
   "cell_type": "code",
   "execution_count": 13,
   "metadata": {
    "scrolled": true
   },
   "outputs": [
    {
     "name": "stdout",
     "output_type": "stream",
     "text": [
      "Evaluating 98 latin hypercube samples...\n",
      "Run is 100.0% complete.\n",
      "Time taken: 0.00 s\n",
      "Run is 100.0% complete.\n",
      "Time taken: 0.00 s\n",
      "100 100\n"
     ]
    }
   ],
   "source": [
    "g.sample(nsamps=98)\n",
    "print(len(g.ym),len(g.y))"
   ]
  },
  {
   "cell_type": "code",
   "execution_count": 14,
   "metadata": {
    "tags": []
   },
   "outputs": [
    {
     "data": {
      "text/html": [
       "\n",
       "<style>\n",
       "    /* Turns off some styling */\n",
       "    progress {\n",
       "        /* gets rid of default border in Firefox and Opera. */\n",
       "        border: none;\n",
       "        /* Needs to be in here for Safari polyfill so background images work as expected. */\n",
       "        background-size: auto;\n",
       "    }\n",
       "    progress:not([value]), progress:not([value])::-webkit-progress-bar {\n",
       "        background: repeating-linear-gradient(45deg, #7e7e7e, #7e7e7e 10px, #5c5c5c 10px, #5c5c5c 20px);\n",
       "    }\n",
       "    .progress-bar-interrupted, .progress-bar-interrupted::-webkit-progress-bar {\n",
       "        background: #F44336;\n",
       "    }\n",
       "</style>\n"
      ],
      "text/plain": [
       "<IPython.core.display.HTML object>"
      ]
     },
     "metadata": {},
     "output_type": "display_data"
    },
    {
     "data": {
      "text/html": [
       "\n",
       "    <div>\n",
       "      <progress value='47' class='' max='47' style='width:300px; height:20px; vertical-align: middle;'></progress>\n",
       "      100.00% [47/47 00:00&lt;00:00 logp = 431.17, ||grad|| = 0.00045022]\n",
       "    </div>\n",
       "    "
      ],
      "text/plain": [
       "<IPython.core.display.HTML object>"
      ]
     },
     "metadata": {},
     "output_type": "display_data"
    },
    {
     "name": "stdout",
     "output_type": "stream",
     "text": [
      "\n"
     ]
    }
   ],
   "source": [
    "g.fit(restarts=1)"
   ]
  },
  {
   "cell_type": "markdown",
   "metadata": {},
   "source": [
    "Your fitted model will be a PyMC object and as such will retain all PyMC functionality. It can be accessed as the 'm' attribute of the gp class.\n",
    "\n",
    "The fitted hyperparameters are stored as g.hypers"
   ]
  },
  {
   "cell_type": "code",
   "execution_count": 15,
   "metadata": {},
   "outputs": [
    {
     "name": "stdout",
     "output_type": "stream",
     "text": [
      "{'l_log__': array([0.93165542, 1.46555689]), 'kv_log__': array([6.03175742]), 'l': array([2.53870832, 4.32995388]), 'kv': array([416.44625569])}\n"
     ]
    }
   ],
   "source": [
    "print(g.hypers)"
   ]
  },
  {
   "cell_type": "markdown",
   "metadata": {},
   "source": [
    "Make a train-test set and produce plots to assess GP performance"
   ]
  },
  {
   "cell_type": "code",
   "execution_count": 16,
   "metadata": {},
   "outputs": [],
   "source": [
    "g.train_test(training_frac=0.9)"
   ]
  },
  {
   "cell_type": "code",
   "execution_count": 17,
   "metadata": {
    "tags": []
   },
   "outputs": [
    {
     "name": "stdout",
     "output_type": "stream",
     "text": [
      "{'l_log__': array([0.93165542, 1.46555689]), 'kv_log__': array([6.03175742]), 'l': array([2.53870832, 4.32995388]), 'kv': array([416.44625569])}\n",
      "Predicting...\n",
      "Time taken: 0.65 s\n",
      "RMSE for y is: 2.76693e-04\n",
      "Mean absoulte error for y is: 1.46029e-04\n",
      "Mean percentage error for y is: 0.02830%\n",
      "R^2 for y is: 1.00000\n"
     ]
    },
    {
     "data": {
      "image/png": "[encoded data removed]",
      "text/plain": [
       "<Figure size 432x288 with 1 Axes>"
      ]
     },
     "metadata": {
      "needs_background": "light"
     },
     "output_type": "display_data"
    },
    {
     "data": {
      "image/png": "[encoded data removed]",
      "text/plain": [
       "<Figure size 432x288 with 1 Axes>"
      ]
     },
     "metadata": {
      "needs_background": "light"
     },
     "output_type": "display_data"
    },
    {
     "data": {
      "image/png": "[encoded data removed]",
      "text/plain": [
       "<Figure size 432x288 with 1 Axes>"
      ]
     },
     "metadata": {
      "needs_background": "light"
     },
     "output_type": "display_data"
    }
   ],
   "source": [
    "g.test_plots(revert=True,yplots=True,xplots=True)"
   ]
  },
  {
   "cell_type": "markdown",
   "metadata": {},
   "source": [
    "Can change model details (kernel choice and whether data contains noise) without reinitialsing class. This will scrub any fitted model and require a new call to gp.fit()."
   ]
  },
  {
   "cell_type": "code",
   "execution_count": 18,
   "metadata": {
    "tags": []
   },
   "outputs": [
    {
     "data": {
      "text/html": [
       "\n",
       "<style>\n",
       "    /* Turns off some styling */\n",
       "    progress {\n",
       "        /* gets rid of default border in Firefox and Opera. */\n",
       "        border: none;\n",
       "        /* Needs to be in here for Safari polyfill so background images work as expected. */\n",
       "        background-size: auto;\n",
       "    }\n",
       "    progress:not([value]), progress:not([value])::-webkit-progress-bar {\n",
       "        background: repeating-linear-gradient(45deg, #7e7e7e, #7e7e7e 10px, #5c5c5c 10px, #5c5c5c 20px);\n",
       "    }\n",
       "    .progress-bar-interrupted, .progress-bar-interrupted::-webkit-progress-bar {\n",
       "        background: #F44336;\n",
       "    }\n",
       "</style>\n"
      ],
      "text/plain": [
       "<IPython.core.display.HTML object>"
      ]
     },
     "metadata": {},
     "output_type": "display_data"
    },
    {
     "data": {
      "text/html": [
       "\n",
       "    <div>\n",
       "      <progress value='38' class='' max='38' style='width:300px; height:20px; vertical-align: middle;'></progress>\n",
       "      100.00% [38/38 00:00&lt;00:00 logp = 274.96, ||grad|| = 0.012162]\n",
       "    </div>\n",
       "    "
      ],
      "text/plain": [
       "<IPython.core.display.HTML object>"
      ]
     },
     "metadata": {},
     "output_type": "display_data"
    },
    {
     "name": "stdout",
     "output_type": "stream",
     "text": [
      "\n",
      "{'gv_log__': array(-30.69039598), 'l_log__': array([1.77744861, 2.47418969]), 'kv_log__': array([5.85962575]), 'gv': array(4.69170157e-14), 'l': array([ 5.91474635, 11.87208309]), 'kv': array([350.5929107])}\n",
      "Predicting...\n",
      "Time taken: 0.36 s\n",
      "RMSE for y is: 1.38244e-03\n",
      "Mean absoulte error for y is: 4.95699e-04\n",
      "Mean percentage error for y is: 0.06217%\n",
      "R^2 for y is: 0.99999\n"
     ]
    },
    {
     "data": {
      "image/png": "[encoded data removed]",
      "text/plain": [
       "<Figure size 432x288 with 1 Axes>"
      ]
     },
     "metadata": {
      "needs_background": "light"
     },
     "output_type": "display_data"
    },
    {
     "data": {
      "image/png": "[encoded data removed]",
      "text/plain": [
       "<Figure size 432x288 with 1 Axes>"
      ]
     },
     "metadata": {
      "needs_background": "light"
     },
     "output_type": "display_data"
    },
    {
     "data": {
      "image/png": "[encoded data removed]",
      "text/plain": [
       "<Figure size 432x288 with 1 Axes>"
      ]
     },
     "metadata": {
      "needs_background": "light"
     },
     "output_type": "display_data"
    }
   ],
   "source": [
    "g.change_model(kernel='Matern52',noise=True)\n",
    "g.test_plots(method='map')"
   ]
  },
  {
   "cell_type": "markdown",
   "metadata": {},
   "source": [
    "Propagate uncertainty using surrogate and get target distributions"
   ]
  },
  {
   "cell_type": "code",
   "execution_count": 19,
   "metadata": {
    "tags": []
   },
   "outputs": [
    {
     "data": {
      "text/html": [
       "\n",
       "<style>\n",
       "    /* Turns off some styling */\n",
       "    progress {\n",
       "        /* gets rid of default border in Firefox and Opera. */\n",
       "        border: none;\n",
       "        /* Needs to be in here for Safari polyfill so background images work as expected. */\n",
       "        background-size: auto;\n",
       "    }\n",
       "    progress:not([value]), progress:not([value])::-webkit-progress-bar {\n",
       "        background: repeating-linear-gradient(45deg, #7e7e7e, #7e7e7e 10px, #5c5c5c 10px, #5c5c5c 20px);\n",
       "    }\n",
       "    .progress-bar-interrupted, .progress-bar-interrupted::-webkit-progress-bar {\n",
       "        background: #F44336;\n",
       "    }\n",
       "</style>\n"
      ],
      "text/plain": [
       "<IPython.core.display.HTML object>"
      ]
     },
     "metadata": {},
     "output_type": "display_data"
    },
    {
     "data": {
      "text/html": [
       "\n",
       "    <div>\n",
       "      <progress value='38' class='' max='38' style='width:300px; height:20px; vertical-align: middle;'></progress>\n",
       "      100.00% [38/38 00:00&lt;00:00 logp = 343.5, ||grad|| = 0.0055741]\n",
       "    </div>\n",
       "    "
      ],
      "text/plain": [
       "<IPython.core.display.HTML object>"
      ]
     },
     "metadata": {},
     "output_type": "display_data"
    },
    {
     "name": "stdout",
     "output_type": "stream",
     "text": [
      "\n",
      "Predicting...\n",
      "Time taken: 0.91 s\n"
     ]
    },
    {
     "data": {
      "image/png": "[encoded data removed]",
      "text/plain": [
       "<Figure size 360x360 with 1 Axes>"
      ]
     },
     "metadata": {
      "needs_background": "light"
     },
     "output_type": "display_data"
    }
   ],
   "source": [
    "g.fit()\n",
    "x,y = g.y_dist(mode='hist_kde',nsamps=1000,return_data=True,surrogate=True)"
   ]
  },
  {
   "cell_type": "markdown",
   "metadata": {},
   "source": [
    "Plot also the distrutions based on underyling 100 LHC samples"
   ]
  },
  {
   "cell_type": "code",
   "execution_count": 20,
   "metadata": {
    "tags": []
   },
   "outputs": [
    {
     "data": {
      "image/png": "[encoded data removed]",
      "text/plain": [
       "<Figure size 360x360 with 1 Axes>"
      ]
     },
     "metadata": {
      "needs_background": "light"
     },
     "output_type": "display_data"
    }
   ],
   "source": [
    "g.y_dist(surrogate=False)"
   ]
  },
  {
   "cell_type": "markdown",
   "metadata": {},
   "source": [
    "Get 1000 actual function evaluations for comparison with GP surrogate plots. GP based on 100 evaluations gives good qualitative agreement."
   ]
  },
  {
   "cell_type": "code",
   "execution_count": 21,
   "metadata": {},
   "outputs": [],
   "source": [
    "l = LHC(nx=2,ny=1,priors=sample_space,target=test_fun,verbose=True)"
   ]
  },
  {
   "cell_type": "code",
   "execution_count": 22,
   "metadata": {},
   "outputs": [
    {
     "name": "stdout",
     "output_type": "stream",
     "text": [
      "Evaluating 1000 latin hypercube samples...\n",
      "Run is 100.0% complete.\n",
      "Time taken: 0.02 s\n"
     ]
    }
   ],
   "source": [
    "l.sample(1000)"
   ]
  },
  {
   "cell_type": "code",
   "execution_count": 23,
   "metadata": {
    "tags": []
   },
   "outputs": [
    {
     "data": {
      "image/png": "[encoded data removed]",
      "text/plain": [
       "<Figure size 360x360 with 1 Axes>"
      ]
     },
     "metadata": {
      "needs_background": "light"
     },
     "output_type": "display_data"
    }
   ],
   "source": [
    "l.y_dist()"
   ]
  },
  {
   "cell_type": "markdown",
   "metadata": {},
   "source": [
    "The lengthscales of the fitted GP give an insight into sensitivities of the outputs to the inputs."
   ]
  },
  {
   "cell_type": "code",
   "execution_count": 24,
   "metadata": {
    "tags": []
   },
   "outputs": [
    {
     "data": {
      "image/png": "[encoded data removed]",
      "text/plain": [
       "<Figure size 432x288 with 1 Axes>"
      ]
     },
     "metadata": {
      "needs_background": "light"
     },
     "output_type": "display_data"
    }
   ],
   "source": [
    "g.relative_importances()"
   ]
  },
  {
   "cell_type": "markdown",
   "metadata": {},
   "source": [
    "## Bayesian Optimisation"
   ]
  },
  {
   "cell_type": "code",
   "execution_count": 26,
   "metadata": {},
   "outputs": [
    {
     "name": "stdout",
     "output_type": "stream",
     "text": [
      "Running Bayesian minimisation...\n",
      "Current optima is 1.2180871013330516 at x point [0.00689554 1.23546018]\n",
      "Iteration 0\n",
      "Predicting...\n",
      "Time taken: 1.01 s\n"
     ]
    },
    {
     "name": "stderr",
     "output_type": "stream",
     "text": [
      "/home/u1997128/Documents/PhD/andvaranaut/andvaranaut/gpmcmc.py:566: RuntimeWarning: divide by zero encountered in divide\n",
      "  yv /= np.power(y,2)\n",
      "/home/u1997128/.local/lib/python3.10/site-packages/pymc/model/core.py:1100: UserWarning: Model.initial_values is deprecated. Use Model.rvs_to_initial_values instead.\n",
      "  warnings.warn(\n"
     ]
    },
    {
     "name": "stdout",
     "output_type": "stream",
     "text": [
      "Function opt is -0.274\n",
      "Refining [4.61801456e-04 1.49982761e+00]\n"
     ]
    },
    {
     "data": {
      "text/html": [
       "\n",
       "<style>\n",
       "    /* Turns off some styling */\n",
       "    progress {\n",
       "        /* gets rid of default border in Firefox and Opera. */\n",
       "        border: none;\n",
       "        /* Needs to be in here for Safari polyfill so background images work as expected. */\n",
       "        background-size: auto;\n",
       "    }\n",
       "    progress:not([value]), progress:not([value])::-webkit-progress-bar {\n",
       "        background: repeating-linear-gradient(45deg, #7e7e7e, #7e7e7e 10px, #5c5c5c 10px, #5c5c5c 20px);\n",
       "    }\n",
       "    .progress-bar-interrupted, .progress-bar-interrupted::-webkit-progress-bar {\n",
       "        background: #F44336;\n",
       "    }\n",
       "</style>\n"
      ],
      "text/plain": [
       "<IPython.core.display.HTML object>"
      ]
     },
     "metadata": {},
     "output_type": "display_data"
    },
    {
     "data": {
      "text/html": [
       "\n",
       "    <div>\n",
       "      <progress value='8' class='' max='8' style='width:300px; height:20px; vertical-align: middle;'></progress>\n",
       "      100.00% [8/8 00:00&lt;00:00 logp = 0.27402, ||grad|| = 0.0014734]\n",
       "    </div>\n",
       "    "
      ],
      "text/plain": [
       "<IPython.core.display.HTML object>"
      ]
     },
     "metadata": {},
     "output_type": "display_data"
    },
    {
     "name": "stdout",
     "output_type": "stream",
     "text": [
      "\n",
      "{'x0': -13.55, 'x1': -11.43, 'pot': 0.28}\n",
      "Predicting...\n",
      "Time taken: 0.67 s\n",
      "Predicted [[1.49371272]] at x point [[2.62119593e-06 1.49999456e+00]]\n",
      "Run is 100.0% complete.\n",
      "Time taken: 0.00 s\n",
      "Run is 100.0% complete.\n",
      "Time taken: 0.00 s\n",
      "New sample is [[1.49998604]] at x point [[2.62119593e-06 1.49999456e+00]]\n"
     ]
    },
    {
     "data": {
      "text/html": [
       "\n",
       "<style>\n",
       "    /* Turns off some styling */\n",
       "    progress {\n",
       "        /* gets rid of default border in Firefox and Opera. */\n",
       "        border: none;\n",
       "        /* Needs to be in here for Safari polyfill so background images work as expected. */\n",
       "        background-size: auto;\n",
       "    }\n",
       "    progress:not([value]), progress:not([value])::-webkit-progress-bar {\n",
       "        background: repeating-linear-gradient(45deg, #7e7e7e, #7e7e7e 10px, #5c5c5c 10px, #5c5c5c 20px);\n",
       "    }\n",
       "    .progress-bar-interrupted, .progress-bar-interrupted::-webkit-progress-bar {\n",
       "        background: #F44336;\n",
       "    }\n",
       "</style>\n"
      ],
      "text/plain": [
       "<IPython.core.display.HTML object>"
      ]
     },
     "metadata": {},
     "output_type": "display_data"
    },
    {
     "data": {
      "text/html": [
       "\n",
       "    <div>\n",
       "      <progress value='14' class='' max='14' style='width:300px; height:20px; vertical-align: middle;'></progress>\n",
       "      100.00% [14/14 00:00&lt;00:00 logp = 345.25, ||grad|| = 0.64296]\n",
       "    </div>\n",
       "    "
      ],
      "text/plain": [
       "<IPython.core.display.HTML object>"
      ]
     },
     "metadata": {},
     "output_type": "display_data"
    },
    {
     "name": "stdout",
     "output_type": "stream",
     "text": [
      "\n",
      "Iteration 1\n",
      "Predicting...\n",
      "Time taken: 0.99 s\n"
     ]
    },
    {
     "name": "stderr",
     "output_type": "stream",
     "text": [
      "/home/u1997128/Documents/PhD/andvaranaut/andvaranaut/gpmcmc.py:566: RuntimeWarning: divide by zero encountered in divide\n",
      "  yv /= np.power(y,2)\n",
      "/home/u1997128/.local/lib/python3.10/site-packages/pymc/model/core.py:1100: UserWarning: Model.initial_values is deprecated. Use Model.rvs_to_initial_values instead.\n",
      "  warnings.warn(\n"
     ]
    },
    {
     "name": "stdout",
     "output_type": "stream",
     "text": [
      "Function opt is -0.000\n",
      "Refining [1.47207395 1.05643482]\n"
     ]
    },
    {
     "data": {
      "text/html": [
       "\n",
       "<style>\n",
       "    /* Turns off some styling */\n",
       "    progress {\n",
       "        /* gets rid of default border in Firefox and Opera. */\n",
       "        border: none;\n",
       "        /* Needs to be in here for Safari polyfill so background images work as expected. */\n",
       "        background-size: auto;\n",
       "    }\n",
       "    progress:not([value]), progress:not([value])::-webkit-progress-bar {\n",
       "        background: repeating-linear-gradient(45deg, #7e7e7e, #7e7e7e 10px, #5c5c5c 10px, #5c5c5c 20px);\n",
       "    }\n",
       "    .progress-bar-interrupted, .progress-bar-interrupted::-webkit-progress-bar {\n",
       "        background: #F44336;\n",
       "    }\n",
       "</style>\n"
      ],
      "text/plain": [
       "<IPython.core.display.HTML object>"
      ]
     },
     "metadata": {},
     "output_type": "display_data"
    },
    {
     "data": {
      "text/html": [
       "\n",
       "    <div>\n",
       "      <progress value='1' class='' max='1' style='width:300px; height:20px; vertical-align: middle;'></progress>\n",
       "      100.00% [1/1 00:00&lt;00:00 logp = 0, ||grad|| = 0]\n",
       "    </div>\n",
       "    "
      ],
      "text/plain": [
       "<IPython.core.display.HTML object>"
      ]
     },
     "metadata": {},
     "output_type": "display_data"
    },
    {
     "name": "stdout",
     "output_type": "stream",
     "text": [
      "\n",
      "{'x0': -1.64, 'x1': -2.3, 'pot': 0.0}\n",
      "Relative convergence in sample: 280801.6151800584\n",
      "Predicting...\n",
      "Time taken: 0.36 s\n",
      "Predicted [[0.10843317]] at x point [[1.47207395 1.05643482]]\n",
      "Run is 100.0% complete.\n",
      "Time taken: 0.00 s\n",
      "Run is 100.0% complete.\n",
      "Time taken: 0.00 s\n",
      "New sample is [[0.10844778]] at x point [[1.47207395 1.05643482]]\n"
     ]
    },
    {
     "data": {
      "text/html": [
       "\n",
       "<style>\n",
       "    /* Turns off some styling */\n",
       "    progress {\n",
       "        /* gets rid of default border in Firefox and Opera. */\n",
       "        border: none;\n",
       "        /* Needs to be in here for Safari polyfill so background images work as expected. */\n",
       "        background-size: auto;\n",
       "    }\n",
       "    progress:not([value]), progress:not([value])::-webkit-progress-bar {\n",
       "        background: repeating-linear-gradient(45deg, #7e7e7e, #7e7e7e 10px, #5c5c5c 10px, #5c5c5c 20px);\n",
       "    }\n",
       "    .progress-bar-interrupted, .progress-bar-interrupted::-webkit-progress-bar {\n",
       "        background: #F44336;\n",
       "    }\n",
       "</style>\n"
      ],
      "text/plain": [
       "<IPython.core.display.HTML object>"
      ]
     },
     "metadata": {},
     "output_type": "display_data"
    },
    {
     "data": {
      "text/html": [
       "\n",
       "    <div>\n",
       "      <progress value='5' class='' max='5' style='width:300px; height:20px; vertical-align: middle;'></progress>\n",
       "      100.00% [5/5 00:00&lt;00:00 logp = 350.96, ||grad|| = 0.19129]\n",
       "    </div>\n",
       "    "
      ],
      "text/plain": [
       "<IPython.core.display.HTML object>"
      ]
     },
     "metadata": {},
     "output_type": "display_data"
    },
    {
     "name": "stdout",
     "output_type": "stream",
     "text": [
      "\n",
      "[2.62119593e-06 1.49999456e+00] 1.499986037405541\n"
     ]
    }
   ],
   "source": [
    "g.BO(opt_type='max',max_iter=2)\n",
    "print(g.xopt,g.yopt)"
   ]
  },
  {
   "cell_type": "code",
   "execution_count": 27,
   "metadata": {},
   "outputs": [
    {
     "name": "stdout",
     "output_type": "stream",
     "text": [
      "Running Bayesian minimisation...\n",
      "Current optima is -1.001555524044409 at x point [1.25567484 1.49903522]\n",
      "Iteration 0\n",
      "Predicting...\n",
      "Time taken: 0.87 s\n"
     ]
    },
    {
     "name": "stderr",
     "output_type": "stream",
     "text": [
      "/home/u1997128/Documents/PhD/andvaranaut/andvaranaut/gpmcmc.py:566: RuntimeWarning: divide by zero encountered in divide\n",
      "  yv /= np.power(y,2)\n",
      "/home/u1997128/.local/lib/python3.10/site-packages/pymc/model/core.py:1100: UserWarning: Model.initial_values is deprecated. Use Model.rvs_to_initial_values instead.\n",
      "  warnings.warn(\n"
     ]
    },
    {
     "name": "stdout",
     "output_type": "stream",
     "text": [
      "Function opt is -0.137\n",
      "Refining [1.6288976  1.49952936]\n"
     ]
    },
    {
     "data": {
      "text/html": [
       "\n",
       "<style>\n",
       "    /* Turns off some styling */\n",
       "    progress {\n",
       "        /* gets rid of default border in Firefox and Opera. */\n",
       "        border: none;\n",
       "        /* Needs to be in here for Safari polyfill so background images work as expected. */\n",
       "        background-size: auto;\n",
       "    }\n",
       "    progress:not([value]), progress:not([value])::-webkit-progress-bar {\n",
       "        background: repeating-linear-gradient(45deg, #7e7e7e, #7e7e7e 10px, #5c5c5c 10px, #5c5c5c 20px);\n",
       "    }\n",
       "    .progress-bar-interrupted, .progress-bar-interrupted::-webkit-progress-bar {\n",
       "        background: #F44336;\n",
       "    }\n",
       "</style>\n"
      ],
      "text/plain": [
       "<IPython.core.display.HTML object>"
      ]
     },
     "metadata": {},
     "output_type": "display_data"
    },
    {
     "data": {
      "text/html": [
       "\n",
       "    <div>\n",
       "      <progress value='17' class='' max='17' style='width:300px; height:20px; vertical-align: middle;'></progress>\n",
       "      100.00% [17/17 00:00&lt;00:00 logp = 0.13839, ||grad|| = 0.00019118]\n",
       "    </div>\n",
       "    "
      ],
      "text/plain": [
       "<IPython.core.display.HTML object>"
      ]
     },
     "metadata": {},
     "output_type": "display_data"
    },
    {
     "name": "stdout",
     "output_type": "stream",
     "text": [
      "\n",
      "{'x0': -1.88, 'x1': -13.43, 'pot': 0.14}\n",
      "Predicting...\n",
      "Time taken: 0.37 s\n",
      "Predicted [[-1.13998694]] at x point [[1.62411251 1.49999927]]\n",
      "Run is 100.0% complete.\n",
      "Time taken: 0.00 s\n",
      "Run is 100.0% complete.\n",
      "Time taken: 0.00 s\n",
      "New sample is [[-1.14062137]] at x point [[1.62411251 1.49999927]]\n"
     ]
    },
    {
     "data": {
      "text/html": [
       "\n",
       "<style>\n",
       "    /* Turns off some styling */\n",
       "    progress {\n",
       "        /* gets rid of default border in Firefox and Opera. */\n",
       "        border: none;\n",
       "        /* Needs to be in here for Safari polyfill so background images work as expected. */\n",
       "        background-size: auto;\n",
       "    }\n",
       "    progress:not([value]), progress:not([value])::-webkit-progress-bar {\n",
       "        background: repeating-linear-gradient(45deg, #7e7e7e, #7e7e7e 10px, #5c5c5c 10px, #5c5c5c 20px);\n",
       "    }\n",
       "    .progress-bar-interrupted, .progress-bar-interrupted::-webkit-progress-bar {\n",
       "        background: #F44336;\n",
       "    }\n",
       "</style>\n"
      ],
      "text/plain": [
       "<IPython.core.display.HTML object>"
      ]
     },
     "metadata": {},
     "output_type": "display_data"
    },
    {
     "data": {
      "text/html": [
       "\n",
       "    <div>\n",
       "      <progress value='12' class='' max='12' style='width:300px; height:20px; vertical-align: middle;'></progress>\n",
       "      100.00% [12/12 00:00&lt;00:00 logp = 355.41, ||grad|| = 0.0016165]\n",
       "    </div>\n",
       "    "
      ],
      "text/plain": [
       "<IPython.core.display.HTML object>"
      ]
     },
     "metadata": {},
     "output_type": "display_data"
    },
    {
     "name": "stdout",
     "output_type": "stream",
     "text": [
      "\n",
      "Iteration 1\n",
      "Predicting...\n",
      "Time taken: 1.82 s\n"
     ]
    },
    {
     "name": "stderr",
     "output_type": "stream",
     "text": [
      "/home/u1997128/Documents/PhD/andvaranaut/andvaranaut/gpmcmc.py:566: RuntimeWarning: divide by zero encountered in divide\n",
      "  yv /= np.power(y,2)\n",
      "/home/u1997128/.local/lib/python3.10/site-packages/pymc/model/core.py:1100: UserWarning: Model.initial_values is deprecated. Use Model.rvs_to_initial_values instead.\n",
      "  warnings.warn(\n"
     ]
    },
    {
     "name": "stdout",
     "output_type": "stream",
     "text": [
      "Function opt is -0.000\n",
      "Refining [1.60614973 1.49994221]\n"
     ]
    },
    {
     "data": {
      "text/html": [
       "\n",
       "<style>\n",
       "    /* Turns off some styling */\n",
       "    progress {\n",
       "        /* gets rid of default border in Firefox and Opera. */\n",
       "        border: none;\n",
       "        /* Needs to be in here for Safari polyfill so background images work as expected. */\n",
       "        background-size: auto;\n",
       "    }\n",
       "    progress:not([value]), progress:not([value])::-webkit-progress-bar {\n",
       "        background: repeating-linear-gradient(45deg, #7e7e7e, #7e7e7e 10px, #5c5c5c 10px, #5c5c5c 20px);\n",
       "    }\n",
       "    .progress-bar-interrupted, .progress-bar-interrupted::-webkit-progress-bar {\n",
       "        background: #F44336;\n",
       "    }\n",
       "</style>\n"
      ],
      "text/plain": [
       "<IPython.core.display.HTML object>"
      ]
     },
     "metadata": {},
     "output_type": "display_data"
    },
    {
     "data": {
      "text/html": [
       "\n",
       "    <div>\n",
       "      <progress value='12' class='' max='12' style='width:300px; height:20px; vertical-align: middle;'></progress>\n",
       "      100.00% [12/12 00:00&lt;00:00 logp = 0.00010601, ||grad|| = 0.00060151]\n",
       "    </div>\n",
       "    "
      ],
      "text/plain": [
       "<IPython.core.display.HTML object>"
      ]
     },
     "metadata": {},
     "output_type": "display_data"
    },
    {
     "name": "stdout",
     "output_type": "stream",
     "text": [
      "\n",
      "{'x0': -1.88, 'x1': -15.48, 'pot': 0.0}\n",
      "Convergence at relative tolerance 0.00012496901739491144 achieved with point [[1.62451774 1.4999999 ]]\n",
      "[1.62411251 1.49999927] -1.140621372639337\n"
     ]
    }
   ],
   "source": [
    "g.BO(opt_type='min',max_iter=2)\n",
    "print(g.xopt,g.yopt)"
   ]
  },
  {
   "cell_type": "markdown",
   "metadata": {},
   "source": [
    "## Utils"
   ]
  },
  {
   "cell_type": "markdown",
   "metadata": {},
   "source": [
    "### Save and load objects"
   ]
  },
  {
   "cell_type": "code",
   "execution_count": 28,
   "metadata": {
    "tags": []
   },
   "outputs": [
    {
     "name": "stdout",
     "output_type": "stream",
     "text": [
      "[[0.13425758 1.03465561]\n",
      " [1.46713504 1.45683726]]\n",
      "[[ 0.77469875]\n",
      " [-0.97162298]]\n"
     ]
    }
   ],
   "source": [
    "# Save lhc class including datasets\n",
    "l = LHC(nx=2,ny=1,priors=sample_space,target=test_fun)\n",
    "l.sample(2)\n",
    "print(l.x)\n",
    "print(l.y)\n",
    "save_object(obj=l,fname='lhc_tut.pickle')"
   ]
  },
  {
   "cell_type": "code",
   "execution_count": 29,
   "metadata": {
    "scrolled": true,
    "tags": []
   },
   "outputs": [
    {
     "name": "stdout",
     "output_type": "stream",
     "text": [
      "[[0.13425758 1.03465561]\n",
      " [1.46713504 1.45683726]]\n",
      "[[ 0.77469875]\n",
      " [-0.97162298]]\n"
     ]
    }
   ],
   "source": [
    "# Load lhc class\n",
    "l = load_object(fname='lhc_tut.pickle')\n",
    "print(l.x)\n",
    "print(l.y)"
   ]
  }
 ],
 "metadata": {
  "kernelspec": {
   "display_name": "Python 3 (ipykernel)",
   "language": "python",
   "name": "python3"
  },
  "language_info": {
   "codemirror_mode": {
    "name": "ipython",
    "version": 3
   },
   "file_extension": ".py",
   "mimetype": "text/x-python",
   "name": "python",
   "nbconvert_exporter": "python",
   "pygments_lexer": "ipython3",
   "version": "3.10.12"
  }
 },
 "nbformat": 4,
 "nbformat_minor": 4
}
