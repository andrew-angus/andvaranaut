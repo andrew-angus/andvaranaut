{
 "cells": [
  {
   "cell_type": "markdown",
   "metadata": {},
   "source": [
    "# Andvaranaut tutorial"
   ]
  },
  {
   "cell_type": "code",
   "execution_count": 1,
   "metadata": {
    "tags": []
   },
   "outputs": [],
   "source": [
    "# Load all modules from andvaranaut package\n",
    "from andvaranaut import *"
   ]
  },
  {
   "cell_type": "code",
   "execution_count": 2,
   "metadata": {
    "tags": []
   },
   "outputs": [],
   "source": [
    "# Magic features for development purposes\n",
    "%load_ext autoreload\n",
    "%autoreload 2"
   ]
  },
  {
   "cell_type": "markdown",
   "metadata": {},
   "source": [
    "## LHC Module"
   ]
  },
  {
   "cell_type": "markdown",
   "metadata": {},
   "source": [
    "User supplies target function, which takes a 1D numpy array of nx inputs and returns a 1D numpy array of ny outputs. They must also supply a list of univariate distributions from scipy stats for each of the nx inputs."
   ]
  },
  {
   "cell_type": "code",
   "execution_count": 3,
   "metadata": {
    "tags": []
   },
   "outputs": [],
   "source": [
    "# Example target function (2 inputs, 1 outputs)\n",
    "# A more complex target function will produce an input file, \n",
    "# execute external code, and perform post-processing on output\n",
    "from time import sleep\n",
    "def test_fun(x):\n",
    "  x1,x2 = x\n",
    "  return np.array([x1**2-x1-x2**2*x1+x2])\n",
    "\n",
    "# Input variable probability distributions\n",
    "import scipy.stats as st\n",
    "sample_space = [st.uniform(loc=0,scale=2),\\\n",
    "                st.uniform(loc=1,scale=0.5)]"
   ]
  },
  {
   "cell_type": "code",
   "execution_count": 4,
   "metadata": {
    "tags": []
   },
   "outputs": [],
   "source": [
    "# Latin hypercube class instance, with correct arguments\n",
    "l = LHC(nx=2,ny=1,priors=sample_space,target=test_fun,\\\n",
    "       parallel=False,nproc=1,pulse=1,verbose=True)"
   ]
  },
  {
   "cell_type": "markdown",
   "metadata": {},
   "source": [
    "Sampling makes use of the latin_random function from py-design"
   ]
  },
  {
   "cell_type": "code",
   "execution_count": 5,
   "metadata": {
    "tags": []
   },
   "outputs": [
    {
     "name": "stdout",
     "output_type": "stream",
     "text": [
      "Evaluating 4 latin hypercube samples...\n",
      "Run is 100.0% complete.\n",
      "Time taken: 0.00 s\n",
      "[[1.0995191  1.40769099]\n",
      " [0.74133229 1.12035279]\n",
      " [0.47955194 1.3586019 ]\n",
      " [1.54427254 1.21229838]]\n",
      "[[-0.66168622]\n",
      " [-0.00191909]\n",
      " [ 0.22386347]\n",
      " [-0.21676343]]\n"
     ]
    }
   ],
   "source": [
    "# Sample input distributions by LHC and evaluate target function\n",
    "l.sample(nsamps=4)\n",
    "print(l.x)\n",
    "print(l.y)"
   ]
  },
  {
   "cell_type": "markdown",
   "metadata": {},
   "source": [
    "Parallel execution makes use of the ray package. This also works with SLURM submission if a SLURM script calls a python script with these commands in. (Tutorial will be added at a later date)"
   ]
  },
  {
   "cell_type": "code",
   "execution_count": 6,
   "metadata": {
    "tags": []
   },
   "outputs": [
    {
     "name": "stdout",
     "output_type": "stream",
     "text": [
      "Evaluating 4 latin hypercube samples...\n",
      "\n",
      "Time taken: 5.04 s\n",
      "[[1.0995191  1.40769099]\n",
      " [0.74133229 1.12035279]\n",
      " [0.47955194 1.3586019 ]\n",
      " [1.54427254 1.21229838]\n",
      " [0.60569137 1.11361446]\n",
      " [1.20922281 1.37572579]\n",
      " [0.33873059 1.29057133]\n",
      " [1.80785446 1.21172882]]\n",
      "[[-0.66168622]\n",
      " [-0.00191909]\n",
      " [ 0.22386347]\n",
      " [-0.21676343]\n",
      " [ 0.12364475]\n",
      " [-0.65987825]\n",
      " [ 0.50239817]\n",
      " [ 0.01776337]]\n"
     ]
    }
   ],
   "source": [
    "# Can also execute target function evaluation in parallel\n",
    "l.parallel = True\n",
    "l.nproc = 4\n",
    "l.sample(nsamps=4)\n",
    "l.parallel = False\n",
    "print(l.x)\n",
    "print(l.y)"
   ]
  },
  {
   "cell_type": "code",
   "execution_count": 7,
   "metadata": {
    "tags": []
   },
   "outputs": [
    {
     "data": {
      "image/png": "[encoded data removed]",
      "text/plain": [
       "<Figure size 360x360 with 1 Axes>"
      ]
     },
     "metadata": {
      "needs_background": "light"
     },
     "output_type": "display_data"
    }
   ],
   "source": [
    "# Plot output distributions based on kernel density estimation\n",
    "l.y_dist()"
   ]
  },
  {
   "cell_type": "code",
   "execution_count": 8,
   "metadata": {
    "tags": []
   },
   "outputs": [
    {
     "name": "stdout",
     "output_type": "stream",
     "text": [
      "[[1.0995191  1.40769099]\n",
      " [0.47955194 1.3586019 ]\n",
      " [0.60569137 1.11361446]\n",
      " [1.20922281 1.37572579]\n",
      " [0.33873059 1.29057133]\n",
      " [1.80785446 1.21172882]]\n",
      "[[-0.66168622]\n",
      " [ 0.22386347]\n",
      " [ 0.12364475]\n",
      " [-0.65987825]\n",
      " [ 0.50239817]\n",
      " [ 0.01776337]] \n",
      "\n",
      "[[0.33873059 1.29057133]\n",
      " [1.20922281 1.37572579]\n",
      " [0.60569137 1.11361446]\n",
      " [1.0995191  1.40769099]]\n",
      "[[ 0.50239817]\n",
      " [-0.65987825]\n",
      " [ 0.12364475]\n",
      " [-0.66168622]] \n",
      "\n",
      "[[0.60569137 1.11361446]\n",
      " [1.0995191  1.40769099]]\n",
      "[[ 0.12364475]\n",
      " [-0.66168622]] \n",
      "\n"
     ]
    }
   ],
   "source": [
    "# Optionally delete n samples\n",
    "# Default is deletion by closest sample to a coarse LHC of number of samples for deletion\n",
    "l.del_samples(ndels=2,method='coarse_lhc')\n",
    "print(l.x)\n",
    "print(l.y,'\\n')\n",
    "# Can also delete by random indexing\n",
    "l.del_samples(ndels=2,method='random')\n",
    "print(l.x)\n",
    "print(l.y,'\\n')\n",
    "# or by specific data indexes\n",
    "l.del_samples(method='specific',idx=[0,1])\n",
    "print(l.x)\n",
    "print(l.y,'\\n')"
   ]
  },
  {
   "cell_type": "markdown",
   "metadata": {},
   "source": [
    "If datasets exist then it is possible to set the class attributes directly with these. They must be in the form of 2d numpy float arrays. An additional consideration is the provided x data must be compatible with the existing distributions. WARNING: This will likely invalidate relationship of samples to selected input distributions and therefore invalidate output distributions."
   ]
  },
  {
   "cell_type": "code",
   "execution_count": 9,
   "metadata": {
    "tags": []
   },
   "outputs": [
    {
     "name": "stdout",
     "output_type": "stream",
     "text": [
      "[[0.31736137 1.37714617]\n",
      " [0.0782108  1.00873638]\n",
      " [0.24253996 1.38673756]\n",
      " [0.09802455 1.10039464]\n",
      " [0.10964647 1.2830123 ]]\n",
      "[[0.26902582]\n",
      " [0.6165755 ]\n",
      " [0.59773118]\n",
      " [0.58154913]\n",
      " [0.01661707]]\n"
     ]
    }
   ],
   "source": [
    "x = np.random.rand(5,2)\n",
    "x[:,1] = x[:,1]/2 + 1\n",
    "y = np.random.rand(5,1)\n",
    "l.set_data(x=x,y=y)\n",
    "print(l.x)\n",
    "print(l.y)"
   ]
  },
  {
   "cell_type": "markdown",
   "metadata": {},
   "source": [
    "## GP Module"
   ]
  },
  {
   "cell_type": "markdown",
   "metadata": {},
   "source": [
    "In addition to the arguments provided to the lhc class, there are additional arguments for a list of classes which handle conversion and reversion of the x and y datasets, respectively. These are necessary for optimising surrogate performance, and usually consist of transforming bounded ranges on inputs and outputs to unbounded. Normalisations to get numbers O(1) are also useful and can be implemented either here or within the target function."
   ]
  },
  {
   "cell_type": "markdown",
   "metadata": {},
   "source": [
    "These conversion/reversion arguments are optional, and can be left blank if desired. Standard methods are provided in andvaranaut.transform. A user can define their own conversion classes in this module."
   ]
  },
  {
   "cell_type": "code",
   "execution_count": 10,
   "metadata": {
    "tags": []
   },
   "outputs": [
    {
     "name": "stdout",
     "output_type": "stream",
     "text": [
      "\n",
      "Time taken: 0.00 s\n"
     ]
    }
   ],
   "source": [
    "# Define lists of conversion/reversion class instances for each x and y variable\n",
    "xconrevs = [uniform(sample_space[0]),normal(sample_space[1])]\n",
    "yconrevs = [None]\n",
    "# Instance of gp, only nx, ny, dists, and target are req\n",
    "g = GPMCMC(kernel='RBF',noise=False,xconrevs=xconrevs,yconrevs=yconrevs,\\\n",
    "       nx=2,ny=1,priors=sample_space,target=test_fun,parallel=False,nproc=4,verbose=True)"
   ]
  },
  {
   "cell_type": "markdown",
   "metadata": {},
   "source": [
    "Methods from lhc class are inherited by the GP class with some additions like automatic conversion of new samples"
   ]
  },
  {
   "cell_type": "code",
   "execution_count": 11,
   "metadata": {},
   "outputs": [
    {
     "name": "stdout",
     "output_type": "stream",
     "text": [
      "Evaluating 2 latin hypercube samples...\n",
      "Run is 100.0% complete.\n",
      "Time taken: 0.00 s\n",
      "Run is 100.0% complete.\n",
      "Time taken: 0.00 s\n",
      "[[1.85531589 1.24150338]\n",
      " [0.88811964 1.28931285]]\n",
      "[[-0.0312707 ]\n",
      " [-0.28639611]]\n",
      "[[ 0.92765794 -0.05886629]\n",
      " [ 0.44405982  0.2723674 ]]\n",
      "[[-0.0312707 ]\n",
      " [-0.28639611]]\n"
     ]
    }
   ],
   "source": [
    "g.sample(2)\n",
    "print(g.x)\n",
    "print(g.y)\n",
    "print(g.xc)\n",
    "print(g.yc)"
   ]
  },
  {
   "cell_type": "markdown",
   "metadata": {},
   "source": [
    "Take some more samples"
   ]
  },
  {
   "cell_type": "code",
   "execution_count": 12,
   "metadata": {
    "scrolled": true
   },
   "outputs": [
    {
     "name": "stdout",
     "output_type": "stream",
     "text": [
      "Evaluating 98 latin hypercube samples...\n",
      "Run is 100.0% complete.\n",
      "Time taken: 0.00 s\n",
      "Run is 100.0% complete.\n",
      "Time taken: 0.00 s\n"
     ]
    }
   ],
   "source": [
    "g.sample(nsamps=98)"
   ]
  },
  {
   "cell_type": "markdown",
   "metadata": {},
   "source": [
    "Can change conversion/reversion classes without reinitialising class"
   ]
  },
  {
   "cell_type": "code",
   "execution_count": 13,
   "metadata": {},
   "outputs": [
    {
     "name": "stdout",
     "output_type": "stream",
     "text": [
      "[[1.85531589 1.24150338]\n",
      " [0.88811964 1.28931285]]\n",
      "[[-0.0312707 ]\n",
      " [-0.28639611]]\n",
      "[[0.92646704 0.48276415]\n",
      " [0.4473454  0.57759523]]\n",
      "[[-0.05227923]\n",
      " [-0.52793923]]\n"
     ]
    }
   ],
   "source": [
    "xconrevs = [maxmin(g.x[:,0]),maxmin(g.x[:,1])]\n",
    "yconrevs = [meanstd(g.y[:,0])]\n",
    "g.change_conrevs(xconrevs,yconrevs)\n",
    "print(g.x[:2])\n",
    "print(g.y[:2])\n",
    "print(g.xc[:2])\n",
    "print(g.yc[:2])"
   ]
  },
  {
   "cell_type": "code",
   "execution_count": 14,
   "metadata": {
    "tags": []
   },
   "outputs": [
    {
     "data": {
      "text/html": [
       "\n",
       "<style>\n",
       "    /* Turns off some styling */\n",
       "    progress {\n",
       "        /* gets rid of default border in Firefox and Opera. */\n",
       "        border: none;\n",
       "        /* Needs to be in here for Safari polyfill so background images work as expected. */\n",
       "        background-size: auto;\n",
       "    }\n",
       "    progress:not([value]), progress:not([value])::-webkit-progress-bar {\n",
       "        background: repeating-linear-gradient(45deg, #7e7e7e, #7e7e7e 10px, #5c5c5c 10px, #5c5c5c 20px);\n",
       "    }\n",
       "    .progress-bar-interrupted, .progress-bar-interrupted::-webkit-progress-bar {\n",
       "        background: #F44336;\n",
       "    }\n",
       "</style>\n"
      ],
      "text/plain": [
       "<IPython.core.display.HTML object>"
      ]
     },
     "metadata": {},
     "output_type": "display_data"
    },
    {
     "data": {
      "text/html": [
       "\n",
       "    <div>\n",
       "      <progress value='19' class='' max='19' style='width:300px; height:20px; vertical-align: middle;'></progress>\n",
       "      100.00% [19/19 00:00&lt;00:00 logp = 466.88, ||grad|| = 16.089]\n",
       "    </div>\n",
       "    "
      ],
      "text/plain": [
       "<IPython.core.display.HTML object>"
      ]
     },
     "metadata": {},
     "output_type": "display_data"
    },
    {
     "name": "stdout",
     "output_type": "stream",
     "text": [
      "\n"
     ]
    }
   ],
   "source": [
    "g.fit(restarts=1)"
   ]
  },
  {
   "cell_type": "markdown",
   "metadata": {},
   "source": [
    "Your fitted model will be a PyMC object and as such will retain all PyMC functionality. It can be accessed as the 'm' attribute of the gp class.\n",
    "\n",
    "The fitted hyperparameters are stored as g.hypers"
   ]
  },
  {
   "cell_type": "code",
   "execution_count": 15,
   "metadata": {},
   "outputs": [
    {
     "name": "stdout",
     "output_type": "stream",
     "text": [
      "{'l_log__': array([0.12345731, 0.98927571]), 'kv_log__': array([4.22475863]), 'l': array([1.1314017 , 2.68928595]), 'kv': array([68.35800214])}\n"
     ]
    }
   ],
   "source": [
    "print(g.hypers)"
   ]
  },
  {
   "cell_type": "markdown",
   "metadata": {},
   "source": [
    "Make a train-test set and produce plots to assess GP performance"
   ]
  },
  {
   "cell_type": "code",
   "execution_count": 16,
   "metadata": {},
   "outputs": [],
   "source": [
    "g.train_test(training_frac=0.9)"
   ]
  },
  {
   "cell_type": "code",
   "execution_count": 17,
   "metadata": {
    "tags": []
   },
   "outputs": [
    {
     "name": "stdout",
     "output_type": "stream",
     "text": [
      "Predicting...\n",
      "Time taken: 1.17 s\n",
      "RMSE for y is: 1.43650e-04\n",
      "Mean absoulte error for y is: 1.08437e-04\n",
      "Mean percentage error for y is: 0.07307%\n",
      "R^2 for y is: 1.00000\n"
     ]
    },
    {
     "data": {
      "image/png": "[encoded data removed]",
      "text/plain": [
       "<Figure size 432x288 with 1 Axes>"
      ]
     },
     "metadata": {
      "needs_background": "light"
     },
     "output_type": "display_data"
    },
    {
     "data": {
      "image/png": "[encoded data removed]",
      "text/plain": [
       "<Figure size 432x288 with 1 Axes>"
      ]
     },
     "metadata": {
      "needs_background": "light"
     },
     "output_type": "display_data"
    },
    {
     "data": {
      "image/png": "[encoded data removed]",
      "text/plain": [
       "<Figure size 432x288 with 1 Axes>"
      ]
     },
     "metadata": {
      "needs_background": "light"
     },
     "output_type": "display_data"
    }
   ],
   "source": [
    "g.test_plots(revert=True,yplots=True,xplots=True)"
   ]
  },
  {
   "cell_type": "markdown",
   "metadata": {},
   "source": [
    "Can change model details (kernel choice and whether data contains noise) without reinitialsing class. This will scrub any fitted model and require a new call to gp.fit()."
   ]
  },
  {
   "cell_type": "code",
   "execution_count": 18,
   "metadata": {
    "tags": []
   },
   "outputs": [
    {
     "data": {
      "text/html": [
       "\n",
       "<style>\n",
       "    /* Turns off some styling */\n",
       "    progress {\n",
       "        /* gets rid of default border in Firefox and Opera. */\n",
       "        border: none;\n",
       "        /* Needs to be in here for Safari polyfill so background images work as expected. */\n",
       "        background-size: auto;\n",
       "    }\n",
       "    progress:not([value]), progress:not([value])::-webkit-progress-bar {\n",
       "        background: repeating-linear-gradient(45deg, #7e7e7e, #7e7e7e 10px, #5c5c5c 10px, #5c5c5c 20px);\n",
       "    }\n",
       "    .progress-bar-interrupted, .progress-bar-interrupted::-webkit-progress-bar {\n",
       "        background: #F44336;\n",
       "    }\n",
       "</style>\n"
      ],
      "text/plain": [
       "<IPython.core.display.HTML object>"
      ]
     },
     "metadata": {},
     "output_type": "display_data"
    },
    {
     "data": {
      "text/html": [
       "\n",
       "    <div>\n",
       "      <progress value='19' class='' max='19' style='width:300px; height:20px; vertical-align: middle;'></progress>\n",
       "      100.00% [19/19 00:00&lt;00:00 logp = 334.86, ||grad|| = 13.567]\n",
       "    </div>\n",
       "    "
      ],
      "text/plain": [
       "<IPython.core.display.HTML object>"
      ]
     },
     "metadata": {},
     "output_type": "display_data"
    },
    {
     "name": "stdout",
     "output_type": "stream",
     "text": [
      "\n",
      "Predicting...\n",
      "Time taken: 0.95 s\n",
      "RMSE for y is: 1.10526e-04\n",
      "Mean absoulte error for y is: 5.88177e-05\n",
      "Mean percentage error for y is: 0.01675%\n",
      "R^2 for y is: 1.00000\n"
     ]
    },
    {
     "data": {
      "image/png": "[encoded data removed]",
      "text/plain": [
       "<Figure size 432x288 with 1 Axes>"
      ]
     },
     "metadata": {
      "needs_background": "light"
     },
     "output_type": "display_data"
    },
    {
     "data": {
      "image/png": "[encoded data removed]",
      "text/plain": [
       "<Figure size 432x288 with 1 Axes>"
      ]
     },
     "metadata": {
      "needs_background": "light"
     },
     "output_type": "display_data"
    },
    {
     "data": {
      "image/png": "[encoded data removed]",
      "text/plain": [
       "<Figure size 432x288 with 1 Axes>"
      ]
     },
     "metadata": {
      "needs_background": "light"
     },
     "output_type": "display_data"
    }
   ],
   "source": [
    "g.change_model(kernel='Matern52',noise=True)\n",
    "g.test_plots(method='map')"
   ]
  },
  {
   "cell_type": "markdown",
   "metadata": {},
   "source": [
    "Propagate uncertainty using surrogate and get target distributions"
   ]
  },
  {
   "cell_type": "code",
   "execution_count": 19,
   "metadata": {
    "tags": []
   },
   "outputs": [
    {
     "data": {
      "text/html": [
       "\n",
       "<style>\n",
       "    /* Turns off some styling */\n",
       "    progress {\n",
       "        /* gets rid of default border in Firefox and Opera. */\n",
       "        border: none;\n",
       "        /* Needs to be in here for Safari polyfill so background images work as expected. */\n",
       "        background-size: auto;\n",
       "    }\n",
       "    progress:not([value]), progress:not([value])::-webkit-progress-bar {\n",
       "        background: repeating-linear-gradient(45deg, #7e7e7e, #7e7e7e 10px, #5c5c5c 10px, #5c5c5c 20px);\n",
       "    }\n",
       "    .progress-bar-interrupted, .progress-bar-interrupted::-webkit-progress-bar {\n",
       "        background: #F44336;\n",
       "    }\n",
       "</style>\n"
      ],
      "text/plain": [
       "<IPython.core.display.HTML object>"
      ]
     },
     "metadata": {},
     "output_type": "display_data"
    },
    {
     "data": {
      "text/html": [
       "\n",
       "    <div>\n",
       "      <progress value='39' class='' max='39' style='width:300px; height:20px; vertical-align: middle;'></progress>\n",
       "      100.00% [39/39 00:00&lt;00:00 logp = 392.21, ||grad|| = 2.5834]\n",
       "    </div>\n",
       "    "
      ],
      "text/plain": [
       "<IPython.core.display.HTML object>"
      ]
     },
     "metadata": {},
     "output_type": "display_data"
    },
    {
     "name": "stdout",
     "output_type": "stream",
     "text": [
      "\n",
      "Predicting...\n",
      "Time taken: 1.00 s\n"
     ]
    },
    {
     "data": {
      "image/png": "[encoded data removed]",
      "text/plain": [
       "<Figure size 360x360 with 1 Axes>"
      ]
     },
     "metadata": {
      "needs_background": "light"
     },
     "output_type": "display_data"
    }
   ],
   "source": [
    "g.fit()\n",
    "x,y = g.y_dist(mode='hist_kde',nsamps=1000,return_data=True,surrogate=True)"
   ]
  },
  {
   "cell_type": "markdown",
   "metadata": {},
   "source": [
    "Plot also the distrutions based on underyling 100 LHC samples"
   ]
  },
  {
   "cell_type": "code",
   "execution_count": 20,
   "metadata": {
    "tags": []
   },
   "outputs": [
    {
     "data": {
      "image/png": "[encoded data removed]",
      "text/plain": [
       "<Figure size 360x360 with 1 Axes>"
      ]
     },
     "metadata": {
      "needs_background": "light"
     },
     "output_type": "display_data"
    }
   ],
   "source": [
    "g.y_dist(surrogate=False)"
   ]
  },
  {
   "cell_type": "markdown",
   "metadata": {},
   "source": [
    "Get 1000 actual function evaluations for comparison with GP surrogate plots. GP based on 100 evaluations gives good qualitative agreement."
   ]
  },
  {
   "cell_type": "code",
   "execution_count": 21,
   "metadata": {},
   "outputs": [],
   "source": [
    "l = LHC(nx=2,ny=1,priors=sample_space,target=test_fun,verbose=True)"
   ]
  },
  {
   "cell_type": "code",
   "execution_count": 22,
   "metadata": {},
   "outputs": [
    {
     "name": "stdout",
     "output_type": "stream",
     "text": [
      "Evaluating 1000 latin hypercube samples...\n",
      "Run is 100.0% complete.\n",
      "Time taken: 0.02 s\n"
     ]
    }
   ],
   "source": [
    "l.sample(1000)"
   ]
  },
  {
   "cell_type": "code",
   "execution_count": 23,
   "metadata": {
    "tags": []
   },
   "outputs": [
    {
     "data": {
      "image/png": "[encoded data removed]",
      "text/plain": [
       "<Figure size 360x360 with 1 Axes>"
      ]
     },
     "metadata": {
      "needs_background": "light"
     },
     "output_type": "display_data"
    }
   ],
   "source": [
    "l.y_dist()"
   ]
  },
  {
   "cell_type": "markdown",
   "metadata": {},
   "source": [
    "The lengthscales of the fitted GP give an insight into sensitivities of the outputs to the inputs."
   ]
  },
  {
   "cell_type": "code",
   "execution_count": 24,
   "metadata": {
    "tags": []
   },
   "outputs": [
    {
     "data": {
      "image/png": "[encoded data removed]",
      "text/plain": [
       "<Figure size 432x288 with 1 Axes>"
      ]
     },
     "metadata": {
      "needs_background": "light"
     },
     "output_type": "display_data"
    }
   ],
   "source": [
    "g.relative_importances()"
   ]
  },
  {
   "cell_type": "markdown",
   "metadata": {},
   "source": [
    "## Bayesian Optimisation"
   ]
  },
  {
   "cell_type": "markdown",
   "metadata": {},
   "source": [
    "First ensure regions of high variance are sampled to improve GP"
   ]
  },
  {
   "cell_type": "code",
   "execution_count": 25,
   "metadata": {},
   "outputs": [
    {
     "name": "stdout",
     "output_type": "stream",
     "text": [
      "Running Bayesian minimisation...\n",
      "Current optima is 1.3107534622936028 at x point [0.04161622 1.43651611]\n",
      "Iteration 1\n",
      "Predicting...\n",
      "Time taken: 0.48 s\n",
      "Function opt is -31.114\n",
      "Refining [1.13641746 1.01436244]\n"
     ]
    },
    {
     "name": "stderr",
     "output_type": "stream",
     "text": [
      "/home/u1997128/.local/lib/python3.10/site-packages/pymc/model/core.py:1101: UserWarning: Model.initial_values is deprecated. Use Model.rvs_to_initial_values instead.\n",
      "  warnings.warn(\n"
     ]
    },
    {
     "data": {
      "text/html": [
       "\n",
       "<style>\n",
       "    /* Turns off some styling */\n",
       "    progress {\n",
       "        /* gets rid of default border in Firefox and Opera. */\n",
       "        border: none;\n",
       "        /* Needs to be in here for Safari polyfill so background images work as expected. */\n",
       "        background-size: auto;\n",
       "    }\n",
       "    progress:not([value]), progress:not([value])::-webkit-progress-bar {\n",
       "        background: repeating-linear-gradient(45deg, #7e7e7e, #7e7e7e 10px, #5c5c5c 10px, #5c5c5c 20px);\n",
       "    }\n",
       "    .progress-bar-interrupted, .progress-bar-interrupted::-webkit-progress-bar {\n",
       "        background: #F44336;\n",
       "    }\n",
       "</style>\n"
      ],
      "text/plain": [
       "<IPython.core.display.HTML object>"
      ]
     },
     "metadata": {},
     "output_type": "display_data"
    },
    {
     "data": {
      "text/html": [
       "\n",
       "    <div>\n",
       "      <progress value='83' class='' max='83' style='width:300px; height:20px; vertical-align: middle;'></progress>\n",
       "      100.00% [83/83 00:00&lt;00:00 logp = 3.245e-06, ||grad|| = 0]\n",
       "    </div>\n",
       "    "
      ],
      "text/plain": [
       "<IPython.core.display.HTML object>"
      ]
     },
     "metadata": {},
     "output_type": "display_data"
    },
    {
     "name": "stdout",
     "output_type": "stream",
     "text": [
      "\n",
      "{'x0': -1.4, 'x1': -3.58, 'pot': 1.7817896745925898e+18}\n",
      "Predicting...\n",
      "Time taken: 0.40 s\n",
      "Predicted [[-7.41449829e-12]] at x point [[1.13604253 1.01436406]]\n",
      "Run is 100.0% complete.\n",
      "Time taken: 0.00 s\n",
      "Run is 100.0% complete.\n",
      "Time taken: 0.00 s\n",
      "New sample is [[8.62544578e-07]] at x point [[1.13604253 1.01436406]]\n"
     ]
    },
    {
     "data": {
      "text/html": [
       "\n",
       "<style>\n",
       "    /* Turns off some styling */\n",
       "    progress {\n",
       "        /* gets rid of default border in Firefox and Opera. */\n",
       "        border: none;\n",
       "        /* Needs to be in here for Safari polyfill so background images work as expected. */\n",
       "        background-size: auto;\n",
       "    }\n",
       "    progress:not([value]), progress:not([value])::-webkit-progress-bar {\n",
       "        background: repeating-linear-gradient(45deg, #7e7e7e, #7e7e7e 10px, #5c5c5c 10px, #5c5c5c 20px);\n",
       "    }\n",
       "    .progress-bar-interrupted, .progress-bar-interrupted::-webkit-progress-bar {\n",
       "        background: #F44336;\n",
       "    }\n",
       "</style>\n"
      ],
      "text/plain": [
       "<IPython.core.display.HTML object>"
      ]
     },
     "metadata": {},
     "output_type": "display_data"
    },
    {
     "data": {
      "text/html": [
       "\n",
       "    <div>\n",
       "      <progress value='11' class='' max='11' style='width:300px; height:20px; vertical-align: middle;'></progress>\n",
       "      100.00% [11/11 00:00&lt;00:00 logp = 397.88, ||grad|| = 0.00051012]\n",
       "    </div>\n",
       "    "
      ],
      "text/plain": [
       "<IPython.core.display.HTML object>"
      ]
     },
     "metadata": {},
     "output_type": "display_data"
    },
    {
     "name": "stdout",
     "output_type": "stream",
     "text": [
      "\n",
      "Iteration 2\n",
      "Predicting...\n",
      "Time taken: 0.48 s\n",
      "Function opt is -33.910\n",
      "Refining [1.64380489 1.16224363]\n"
     ]
    },
    {
     "name": "stderr",
     "output_type": "stream",
     "text": [
      "/home/u1997128/.local/lib/python3.10/site-packages/pymc/model/core.py:1101: UserWarning: Model.initial_values is deprecated. Use Model.rvs_to_initial_values instead.\n",
      "  warnings.warn(\n"
     ]
    },
    {
     "data": {
      "text/html": [
       "\n",
       "<style>\n",
       "    /* Turns off some styling */\n",
       "    progress {\n",
       "        /* gets rid of default border in Firefox and Opera. */\n",
       "        border: none;\n",
       "        /* Needs to be in here for Safari polyfill so background images work as expected. */\n",
       "        background-size: auto;\n",
       "    }\n",
       "    progress:not([value]), progress:not([value])::-webkit-progress-bar {\n",
       "        background: repeating-linear-gradient(45deg, #7e7e7e, #7e7e7e 10px, #5c5c5c 10px, #5c5c5c 20px);\n",
       "    }\n",
       "    .progress-bar-interrupted, .progress-bar-interrupted::-webkit-progress-bar {\n",
       "        background: #F44336;\n",
       "    }\n",
       "</style>\n"
      ],
      "text/plain": [
       "<IPython.core.display.HTML object>"
      ]
     },
     "metadata": {},
     "output_type": "display_data"
    },
    {
     "data": {
      "text/html": [
       "\n",
       "    <div>\n",
       "      <progress value='34' class='' max='34' style='width:300px; height:20px; vertical-align: middle;'></progress>\n",
       "      100.00% [34/34 00:00&lt;00:00 logp = 3.2403e-06, ||grad|| = 1.6077e-57]\n",
       "    </div>\n",
       "    "
      ],
      "text/plain": [
       "<IPython.core.display.HTML object>"
      ]
     },
     "metadata": {},
     "output_type": "display_data"
    },
    {
     "name": "stdout",
     "output_type": "stream",
     "text": [
      "\n",
      "{'x0': -1.92, 'x1': -1.52, 'pot': 24833.93}\n",
      "Relative convergence in sample: 0.29636402654332356\n",
      "Predicting...\n",
      "Time taken: 0.39 s\n",
      "Predicted [[2.57105041e-06]] at x point [[1.64377338 1.16225693]]\n",
      "Run is 100.0% complete.\n",
      "Time taken: 0.00 s\n",
      "Run is 100.0% complete.\n",
      "Time taken: 0.00 s\n",
      "New sample is [[-2.2882958e-06]] at x point [[1.64377338 1.16225693]]\n"
     ]
    },
    {
     "data": {
      "text/html": [
       "\n",
       "<style>\n",
       "    /* Turns off some styling */\n",
       "    progress {\n",
       "        /* gets rid of default border in Firefox and Opera. */\n",
       "        border: none;\n",
       "        /* Needs to be in here for Safari polyfill so background images work as expected. */\n",
       "        background-size: auto;\n",
       "    }\n",
       "    progress:not([value]), progress:not([value])::-webkit-progress-bar {\n",
       "        background: repeating-linear-gradient(45deg, #7e7e7e, #7e7e7e 10px, #5c5c5c 10px, #5c5c5c 20px);\n",
       "    }\n",
       "    .progress-bar-interrupted, .progress-bar-interrupted::-webkit-progress-bar {\n",
       "        background: #F44336;\n",
       "    }\n",
       "</style>\n"
      ],
      "text/plain": [
       "<IPython.core.display.HTML object>"
      ]
     },
     "metadata": {},
     "output_type": "display_data"
    },
    {
     "data": {
      "text/html": [
       "\n",
       "    <div>\n",
       "      <progress value='11' class='' max='11' style='width:300px; height:20px; vertical-align: middle;'></progress>\n",
       "      100.00% [11/11 00:00&lt;00:00 logp = 403.64, ||grad|| = 0.0011377]\n",
       "    </div>\n",
       "    "
      ],
      "text/plain": [
       "<IPython.core.display.HTML object>"
      ]
     },
     "metadata": {},
     "output_type": "display_data"
    },
    {
     "name": "stdout",
     "output_type": "stream",
     "text": [
      "\n",
      "[0.04161622 1.43651611] 1.3107534622936028\n"
     ]
    }
   ],
   "source": [
    "g.BO(opt_type='max',method='explore',max_iter=2)\n",
    "print(g.xopt,g.yopt)"
   ]
  },
  {
   "cell_type": "markdown",
   "metadata": {},
   "source": [
    "Then find function maximum by expected improvement"
   ]
  },
  {
   "cell_type": "code",
   "execution_count": 26,
   "metadata": {},
   "outputs": [
    {
     "name": "stdout",
     "output_type": "stream",
     "text": [
      "Running Bayesian minimisation...\n",
      "Current optima is 1.3107534622936028 at x point [0.04161622 1.43651611]\n",
      "Iteration 1\n",
      "Predicting...\n",
      "Time taken: 0.48 s\n",
      "Function opt is -0.166\n",
      "Refining [0.00198242 1.48605334]\n"
     ]
    },
    {
     "name": "stderr",
     "output_type": "stream",
     "text": [
      "/home/u1997128/.local/lib/python3.10/site-packages/pymc/model/core.py:1101: UserWarning: Model.initial_values is deprecated. Use Model.rvs_to_initial_values instead.\n",
      "  warnings.warn(\n"
     ]
    },
    {
     "data": {
      "text/html": [
       "\n",
       "<style>\n",
       "    /* Turns off some styling */\n",
       "    progress {\n",
       "        /* gets rid of default border in Firefox and Opera. */\n",
       "        border: none;\n",
       "        /* Needs to be in here for Safari polyfill so background images work as expected. */\n",
       "        background-size: auto;\n",
       "    }\n",
       "    progress:not([value]), progress:not([value])::-webkit-progress-bar {\n",
       "        background: repeating-linear-gradient(45deg, #7e7e7e, #7e7e7e 10px, #5c5c5c 10px, #5c5c5c 20px);\n",
       "    }\n",
       "    .progress-bar-interrupted, .progress-bar-interrupted::-webkit-progress-bar {\n",
       "        background: #F44336;\n",
       "    }\n",
       "</style>\n"
      ],
      "text/plain": [
       "<IPython.core.display.HTML object>"
      ]
     },
     "metadata": {},
     "output_type": "display_data"
    },
    {
     "data": {
      "text/html": [
       "\n",
       "    <div>\n",
       "      <progress value='12' class='' max='12' style='width:300px; height:20px; vertical-align: middle;'></progress>\n",
       "      100.00% [12/12 00:00&lt;00:00 logp = 0.18466, ||grad|| = 1.3009e-05]\n",
       "    </div>\n",
       "    "
      ],
      "text/plain": [
       "<IPython.core.display.HTML object>"
      ]
     },
     "metadata": {},
     "output_type": "display_data"
    },
    {
     "name": "stdout",
     "output_type": "stream",
     "text": [
      "\n",
      "{'x0': -14.29, 'x1': -11.39, 'pot': 0.18}\n",
      "Predicting...\n",
      "Time taken: 0.39 s\n",
      "Predicted [[1.49542529]] at x point [[1.24163817e-06 1.49999436e+00]]\n",
      "Run is 100.0% complete.\n",
      "Time taken: 0.00 s\n",
      "Run is 100.0% complete.\n",
      "Time taken: 0.00 s\n",
      "New sample is [[1.49999032]] at x point [[1.24163817e-06 1.49999436e+00]]\n"
     ]
    },
    {
     "data": {
      "text/html": [
       "\n",
       "<style>\n",
       "    /* Turns off some styling */\n",
       "    progress {\n",
       "        /* gets rid of default border in Firefox and Opera. */\n",
       "        border: none;\n",
       "        /* Needs to be in here for Safari polyfill so background images work as expected. */\n",
       "        background-size: auto;\n",
       "    }\n",
       "    progress:not([value]), progress:not([value])::-webkit-progress-bar {\n",
       "        background: repeating-linear-gradient(45deg, #7e7e7e, #7e7e7e 10px, #5c5c5c 10px, #5c5c5c 20px);\n",
       "    }\n",
       "    .progress-bar-interrupted, .progress-bar-interrupted::-webkit-progress-bar {\n",
       "        background: #F44336;\n",
       "    }\n",
       "</style>\n"
      ],
      "text/plain": [
       "<IPython.core.display.HTML object>"
      ]
     },
     "metadata": {},
     "output_type": "display_data"
    },
    {
     "data": {
      "text/html": [
       "\n",
       "    <div>\n",
       "      <progress value='17' class='' max='17' style='width:300px; height:20px; vertical-align: middle;'></progress>\n",
       "      100.00% [17/17 00:00&lt;00:00 logp = 406.63, ||grad|| = 0.010012]\n",
       "    </div>\n",
       "    "
      ],
      "text/plain": [
       "<IPython.core.display.HTML object>"
      ]
     },
     "metadata": {},
     "output_type": "display_data"
    },
    {
     "name": "stdout",
     "output_type": "stream",
     "text": [
      "\n",
      "Iteration 2\n",
      "Predicting...\n",
      "Time taken: 1.05 s\n",
      "Function opt is -0.000\n",
      "Refining [0.76448368 1.00212826]\n"
     ]
    },
    {
     "name": "stderr",
     "output_type": "stream",
     "text": [
      "/home/u1997128/.local/lib/python3.10/site-packages/pymc/model/core.py:1101: UserWarning: Model.initial_values is deprecated. Use Model.rvs_to_initial_values instead.\n",
      "  warnings.warn(\n"
     ]
    },
    {
     "data": {
      "text/html": [
       "\n",
       "<style>\n",
       "    /* Turns off some styling */\n",
       "    progress {\n",
       "        /* gets rid of default border in Firefox and Opera. */\n",
       "        border: none;\n",
       "        /* Needs to be in here for Safari polyfill so background images work as expected. */\n",
       "        background-size: auto;\n",
       "    }\n",
       "    progress:not([value]), progress:not([value])::-webkit-progress-bar {\n",
       "        background: repeating-linear-gradient(45deg, #7e7e7e, #7e7e7e 10px, #5c5c5c 10px, #5c5c5c 20px);\n",
       "    }\n",
       "    .progress-bar-interrupted, .progress-bar-interrupted::-webkit-progress-bar {\n",
       "        background: #F44336;\n",
       "    }\n",
       "</style>\n"
      ],
      "text/plain": [
       "<IPython.core.display.HTML object>"
      ]
     },
     "metadata": {},
     "output_type": "display_data"
    },
    {
     "data": {
      "text/html": [
       "\n",
       "    <div>\n",
       "      <progress value='1' class='' max='1' style='width:300px; height:20px; vertical-align: middle;'></progress>\n",
       "      100.00% [1/1 00:00&lt;00:00 logp = 0, ||grad|| = 0]\n",
       "    </div>\n",
       "    "
      ],
      "text/plain": [
       "<IPython.core.display.HTML object>"
      ]
     },
     "metadata": {},
     "output_type": "display_data"
    },
    {
     "name": "stdout",
     "output_type": "stream",
     "text": [
      "\n",
      "{'x0': -1.44, 'x1': -5.46, 'pot': 0.0}\n",
      "Relative convergence in sample: 307852.5087252278\n",
      "Predicting...\n",
      "Time taken: 0.78 s\n",
      "Predicted [[0.0543908]] at x point [[0.76448368 1.00212826]]\n",
      "Run is 100.0% complete.\n",
      "Time taken: 0.00 s\n",
      "Run is 100.0% complete.\n",
      "Time taken: 0.00 s\n",
      "New sample is [[0.0543387]] at x point [[0.76448368 1.00212826]]\n"
     ]
    },
    {
     "data": {
      "text/html": [
       "\n",
       "<style>\n",
       "    /* Turns off some styling */\n",
       "    progress {\n",
       "        /* gets rid of default border in Firefox and Opera. */\n",
       "        border: none;\n",
       "        /* Needs to be in here for Safari polyfill so background images work as expected. */\n",
       "        background-size: auto;\n",
       "    }\n",
       "    progress:not([value]), progress:not([value])::-webkit-progress-bar {\n",
       "        background: repeating-linear-gradient(45deg, #7e7e7e, #7e7e7e 10px, #5c5c5c 10px, #5c5c5c 20px);\n",
       "    }\n",
       "    .progress-bar-interrupted, .progress-bar-interrupted::-webkit-progress-bar {\n",
       "        background: #F44336;\n",
       "    }\n",
       "</style>\n"
      ],
      "text/plain": [
       "<IPython.core.display.HTML object>"
      ]
     },
     "metadata": {},
     "output_type": "display_data"
    },
    {
     "data": {
      "text/html": [
       "\n",
       "    <div>\n",
       "      <progress value='12' class='' max='12' style='width:300px; height:20px; vertical-align: middle;'></progress>\n",
       "      100.00% [12/12 00:00&lt;00:00 logp = 412.12, ||grad|| = 0.0040041]\n",
       "    </div>\n",
       "    "
      ],
      "text/plain": [
       "<IPython.core.display.HTML object>"
      ]
     },
     "metadata": {},
     "output_type": "display_data"
    },
    {
     "name": "stdout",
     "output_type": "stream",
     "text": [
      "\n",
      "[1.24163817e-06 1.49999436e+00] 1.4999903199889162\n"
     ]
    }
   ],
   "source": [
    "g.BO(opt_type='max',method='EI',max_iter=2)\n",
    "print(g.xopt,g.yopt)"
   ]
  },
  {
   "cell_type": "markdown",
   "metadata": {},
   "source": [
    "And find function minimum by minimising GP mean prediction"
   ]
  },
  {
   "cell_type": "code",
   "execution_count": 27,
   "metadata": {},
   "outputs": [
    {
     "name": "stdout",
     "output_type": "stream",
     "text": [
      "Running Bayesian minimisation...\n",
      "Current optima is -1.1267475860914096 at x point [1.6771225  1.49722835]\n",
      "Iteration 1\n",
      "Predicting...\n",
      "Time taken: 0.49 s\n",
      "Function opt is -1.139\n",
      "Refining [1.58846638 1.49987569]\n"
     ]
    },
    {
     "name": "stderr",
     "output_type": "stream",
     "text": [
      "/home/u1997128/.local/lib/python3.10/site-packages/pymc/model/core.py:1101: UserWarning: Model.initial_values is deprecated. Use Model.rvs_to_initial_values instead.\n",
      "  warnings.warn(\n"
     ]
    },
    {
     "data": {
      "text/html": [
       "\n",
       "<style>\n",
       "    /* Turns off some styling */\n",
       "    progress {\n",
       "        /* gets rid of default border in Firefox and Opera. */\n",
       "        border: none;\n",
       "        /* Needs to be in here for Safari polyfill so background images work as expected. */\n",
       "        background-size: auto;\n",
       "    }\n",
       "    progress:not([value]), progress:not([value])::-webkit-progress-bar {\n",
       "        background: repeating-linear-gradient(45deg, #7e7e7e, #7e7e7e 10px, #5c5c5c 10px, #5c5c5c 20px);\n",
       "    }\n",
       "    .progress-bar-interrupted, .progress-bar-interrupted::-webkit-progress-bar {\n",
       "        background: #F44336;\n",
       "    }\n",
       "</style>\n"
      ],
      "text/plain": [
       "<IPython.core.display.HTML object>"
      ]
     },
     "metadata": {},
     "output_type": "display_data"
    },
    {
     "data": {
      "text/html": [
       "\n",
       "    <div>\n",
       "      <progress value='18' class='' max='18' style='width:300px; height:20px; vertical-align: middle;'></progress>\n",
       "      100.00% [18/18 00:00&lt;00:00 logp = 1.1404, ||grad|| = 0.0016294]\n",
       "    </div>\n",
       "    "
      ],
      "text/plain": [
       "<IPython.core.display.HTML object>"
      ]
     },
     "metadata": {},
     "output_type": "display_data"
    },
    {
     "name": "stdout",
     "output_type": "stream",
     "text": [
      "\n",
      "{'x0': -1.88, 'x1': -14.41, 'pot': 1.14}\n",
      "Predicting...\n",
      "Time taken: 0.38 s\n",
      "Predicted [[-1.14045139]] at x point [[1.62578388 1.49999972]]\n",
      "Run is 100.0% complete.\n",
      "Time taken: 0.00 s\n",
      "Run is 100.0% complete.\n",
      "Time taken: 0.00 s\n",
      "New sample is [[-1.14062331]] at x point [[1.62578388 1.49999972]]\n"
     ]
    },
    {
     "data": {
      "text/html": [
       "\n",
       "<style>\n",
       "    /* Turns off some styling */\n",
       "    progress {\n",
       "        /* gets rid of default border in Firefox and Opera. */\n",
       "        border: none;\n",
       "        /* Needs to be in here for Safari polyfill so background images work as expected. */\n",
       "        background-size: auto;\n",
       "    }\n",
       "    progress:not([value]), progress:not([value])::-webkit-progress-bar {\n",
       "        background: repeating-linear-gradient(45deg, #7e7e7e, #7e7e7e 10px, #5c5c5c 10px, #5c5c5c 20px);\n",
       "    }\n",
       "    .progress-bar-interrupted, .progress-bar-interrupted::-webkit-progress-bar {\n",
       "        background: #F44336;\n",
       "    }\n",
       "</style>\n"
      ],
      "text/plain": [
       "<IPython.core.display.HTML object>"
      ]
     },
     "metadata": {},
     "output_type": "display_data"
    },
    {
     "data": {
      "text/html": [
       "\n",
       "    <div>\n",
       "      <progress value='11' class='' max='11' style='width:300px; height:20px; vertical-align: middle;'></progress>\n",
       "      100.00% [11/11 00:00&lt;00:00 logp = 417.65, ||grad|| = 0.0015781]\n",
       "    </div>\n",
       "    "
      ],
      "text/plain": [
       "<IPython.core.display.HTML object>"
      ]
     },
     "metadata": {},
     "output_type": "display_data"
    },
    {
     "name": "stdout",
     "output_type": "stream",
     "text": [
      "\n",
      "Iteration 2\n",
      "Predicting...\n",
      "Time taken: 0.49 s\n",
      "Function opt is -1.139\n",
      "Refining [1.64912836 1.4997253 ]\n"
     ]
    },
    {
     "name": "stderr",
     "output_type": "stream",
     "text": [
      "/home/u1997128/.local/lib/python3.10/site-packages/pymc/model/core.py:1101: UserWarning: Model.initial_values is deprecated. Use Model.rvs_to_initial_values instead.\n",
      "  warnings.warn(\n"
     ]
    },
    {
     "data": {
      "text/html": [
       "\n",
       "<style>\n",
       "    /* Turns off some styling */\n",
       "    progress {\n",
       "        /* gets rid of default border in Firefox and Opera. */\n",
       "        border: none;\n",
       "        /* Needs to be in here for Safari polyfill so background images work as expected. */\n",
       "        background-size: auto;\n",
       "    }\n",
       "    progress:not([value]), progress:not([value])::-webkit-progress-bar {\n",
       "        background: repeating-linear-gradient(45deg, #7e7e7e, #7e7e7e 10px, #5c5c5c 10px, #5c5c5c 20px);\n",
       "    }\n",
       "    .progress-bar-interrupted, .progress-bar-interrupted::-webkit-progress-bar {\n",
       "        background: #F44336;\n",
       "    }\n",
       "</style>\n"
      ],
      "text/plain": [
       "<IPython.core.display.HTML object>"
      ]
     },
     "metadata": {},
     "output_type": "display_data"
    },
    {
     "data": {
      "text/html": [
       "\n",
       "    <div>\n",
       "      <progress value='14' class='' max='14' style='width:300px; height:20px; vertical-align: middle;'></progress>\n",
       "      100.00% [14/14 00:00&lt;00:00 logp = 1.1405, ||grad|| = 0.00015789]\n",
       "    </div>\n",
       "    "
      ],
      "text/plain": [
       "<IPython.core.display.HTML object>"
      ]
     },
     "metadata": {},
     "output_type": "display_data"
    },
    {
     "name": "stdout",
     "output_type": "stream",
     "text": [
      "\n",
      "{'x0': -1.88, 'x1': -12.54, 'pot': 1.14}\n",
      "Convergence at relative tolerance 9.647694863774068e-05 achieved with point [[1.62547182 1.49999821]]\n",
      "[1.62578388 1.49999972] -1.1406233129628802\n"
     ]
    }
   ],
   "source": [
    "g.BO(opt_type='min',method='exploit',max_iter=2)\n",
    "print(g.xopt,g.yopt)"
   ]
  },
  {
   "cell_type": "markdown",
   "metadata": {},
   "source": [
    "## Utils"
   ]
  },
  {
   "cell_type": "markdown",
   "metadata": {},
   "source": [
    "### Save and load objects"
   ]
  },
  {
   "cell_type": "code",
   "execution_count": 28,
   "metadata": {
    "tags": []
   },
   "outputs": [
    {
     "name": "stdout",
     "output_type": "stream",
     "text": [
      "[[0.66501548 1.29730071]\n",
      " [1.06888071 1.16373493]]\n",
      "[[-0.044683 ]\n",
      " [-0.2102025]]\n"
     ]
    }
   ],
   "source": [
    "# Save lhc class including datasets\n",
    "l = LHC(nx=2,ny=1,priors=sample_space,target=test_fun)\n",
    "l.sample(2)\n",
    "print(l.x)\n",
    "print(l.y)\n",
    "save_object(obj=l,fname='lhc_tut.pickle')"
   ]
  },
  {
   "cell_type": "code",
   "execution_count": 29,
   "metadata": {
    "scrolled": true,
    "tags": []
   },
   "outputs": [
    {
     "name": "stdout",
     "output_type": "stream",
     "text": [
      "[[0.66501548 1.29730071]\n",
      " [1.06888071 1.16373493]]\n",
      "[[-0.044683 ]\n",
      " [-0.2102025]]\n"
     ]
    }
   ],
   "source": [
    "# Load lhc class\n",
    "l = load_object(fname='lhc_tut.pickle')\n",
    "print(l.x)\n",
    "print(l.y)"
   ]
  }
 ],
 "metadata": {
  "kernelspec": {
   "display_name": "Python 3 (ipykernel)",
   "language": "python",
   "name": "python3"
  },
  "language_info": {
   "codemirror_mode": {
    "name": "ipython",
    "version": 3
   },
   "file_extension": ".py",
   "mimetype": "text/x-python",
   "name": "python",
   "nbconvert_exporter": "python",
   "pygments_lexer": "ipython3",
   "version": "3.10.12"
  }
 },
 "nbformat": 4,
 "nbformat_minor": 4
}
