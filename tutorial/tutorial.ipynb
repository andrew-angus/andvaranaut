{
 "cells": [
  {
   "cell_type": "markdown",
   "metadata": {},
   "source": [
    "# Andvaranaut tutorial"
   ]
  },
  {
   "cell_type": "markdown",
   "metadata": {},
   "source": [
    "## Forward Module (Input distributions specified)"
   ]
  },
  {
   "cell_type": "markdown",
   "metadata": {},
   "source": [
    "### Latin Hypercube Sampling\n",
    "Import items form forward module"
   ]
  },
  {
   "cell_type": "code",
   "execution_count": null,
   "metadata": {},
   "outputs": [],
   "source": [
    "from andvaranaut.forward import *"
   ]
  },
  {
   "cell_type": "code",
   "execution_count": null,
   "metadata": {},
   "outputs": [],
   "source": [
    "# Magic features for development purposes\n",
    "%load_ext autoreload\n",
    "%autoreload 2"
   ]
  },
  {
   "cell_type": "markdown",
   "metadata": {},
   "source": [
    "User supplies target function, which takes a 1D numpy array of nx inputs and returns a 1D numpy array of ny outputs. They must also supply a list of univariate distributions from scipy stats for each of the nx inputs."
   ]
  },
  {
   "cell_type": "code",
   "execution_count": null,
   "metadata": {},
   "outputs": [],
   "source": [
    "# Example target function (2 inputs, 2 outputs)\n",
    "# A more complex target function will produce an input file, \n",
    "# execute external code, and perform post-processing on output\n",
    "def test_fun(x):\n",
    "  x1,x2 = x\n",
    "  return np.array([x1+x2,x1**2*x2])\n",
    "\n",
    "# Input variable probability distributions\n",
    "import scipy.stats as st\n",
    "sample_space = [st.uniform(loc=0,scale=1),\\\n",
    "                st.norm(loc=1,scale=0.5)]"
   ]
  },
  {
   "cell_type": "code",
   "execution_count": null,
   "metadata": {},
   "outputs": [],
   "source": [
    "# Latin hypercube class instance, with correct arguments\n",
    "l = lhc(nx=2,ny=2,dists=sample_space,target=test_fun)"
   ]
  },
  {
   "cell_type": "markdown",
   "metadata": {},
   "source": [
    "Sampling makes use of the latin_random function from py-design"
   ]
  },
  {
   "cell_type": "code",
   "execution_count": null,
   "metadata": {},
   "outputs": [],
   "source": [
    "# Sample input distributions by LHC and evaluate target function\n",
    "l.sample(nsamps=4)\n",
    "print(l.x)\n",
    "print(l.y)"
   ]
  },
  {
   "cell_type": "markdown",
   "metadata": {},
   "source": [
    "Parallel execution makes use of the ray package. This also works with SLURM submission if a SLURM script calls a python script with these commands in. (Tutorial will be added at a later date)"
   ]
  },
  {
   "cell_type": "code",
   "execution_count": null,
   "metadata": {},
   "outputs": [],
   "source": [
    "# Can also execute target function evaluation in parallel\n",
    "l.sample(nsamps=4,parallel=True,nproc=4)\n",
    "print(l.x)\n",
    "print(l.y)"
   ]
  },
  {
   "cell_type": "markdown",
   "metadata": {},
   "source": [
    "Plotting output distributions makes use of the kdeplot function from seaborn"
   ]
  },
  {
   "cell_type": "code",
   "execution_count": null,
   "metadata": {},
   "outputs": [],
   "source": [
    "# Plot output distributions based on kernel density estimation\n",
    "l.y_dist()"
   ]
  },
  {
   "cell_type": "code",
   "execution_count": null,
   "metadata": {},
   "outputs": [],
   "source": [
    "# Optionally delete n samples\n",
    "# Default is deletion by closest sample to a coarse LHC of number of samples for deletion\n",
    "l.del_samples(ndels=2,method='coarse_lhc')\n",
    "print(l.x)\n",
    "print(l.y,'\\n')\n",
    "# Can also delete by random indexing\n",
    "l.del_samples(ndels=2,method='random')\n",
    "print(l.x)\n",
    "print(l.y,'\\n')\n",
    "# or by specific data indexes\n",
    "l.del_samples(method='specific',idx=[0,1])\n",
    "print(l.x)\n",
    "print(l.y,'\\n')"
   ]
  },
  {
   "cell_type": "markdown",
   "metadata": {},
   "source": [
    "### Save and load objects"
   ]
  },
  {
   "cell_type": "code",
   "execution_count": null,
   "metadata": {},
   "outputs": [],
   "source": [
    "from andvaranaut.utils import *"
   ]
  },
  {
   "cell_type": "code",
   "execution_count": null,
   "metadata": {},
   "outputs": [],
   "source": [
    "# Save lhc class including datasets\n",
    "save_object(obj=l,fname='lhc_tut.pickle')"
   ]
  },
  {
   "cell_type": "code",
   "execution_count": null,
   "metadata": {},
   "outputs": [],
   "source": [
    "# Load lhc class\n",
    "l = load_object(fname='lhc_tut.pickle')\n",
    "print(l.x)\n",
    "print(l.y)"
   ]
  }
 ],
 "metadata": {
  "kernelspec": {
   "display_name": "Python 3",
   "language": "python",
   "name": "python3"
  },
  "language_info": {
   "codemirror_mode": {
    "name": "ipython",
    "version": 3
   },
   "file_extension": ".py",
   "mimetype": "text/x-python",
   "name": "python",
   "nbconvert_exporter": "python",
   "pygments_lexer": "ipython3",
   "version": "3.6.6"
  }
 },
 "nbformat": 4,
 "nbformat_minor": 2
}
